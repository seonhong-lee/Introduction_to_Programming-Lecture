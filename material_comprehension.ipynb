{
  "nbformat": 4,
  "nbformat_minor": 0,
  "metadata": {
    "colab": {
      "provenance": []
    },
    "kernelspec": {
      "name": "python3",
      "display_name": "Python 3"
    },
    "language_info": {
      "name": "python"
    }
  },
  "cells": [
    {
      "cell_type": "markdown",
      "source": [
        "## 리스트 컴프리헨션(list comprehension)"
      ],
      "metadata": {
        "id": "IQU9uGdRleGC"
      }
    },
    {
      "cell_type": "code",
      "execution_count": 3,
      "metadata": {
        "id": "3p589u57koaB"
      },
      "outputs": [],
      "source": [
        "ll = [1, 2, 3, 4, 5]"
      ]
    },
    {
      "cell_type": "code",
      "source": [
        "# 첫 번째 인자에는 하나의 원소를 받는 함수를 넣고, 두 번째 인자에는 리스트를 전달\n",
        "m = map(lambda x : x * x, ll)"
      ],
      "metadata": {
        "id": "h3M9MjQ0l3fr"
      },
      "execution_count": 4,
      "outputs": []
    },
    {
      "cell_type": "code",
      "source": [
        "[*m] # map 객체에 별표를 붙이면 원소를 변환해서 값을 리스트 내에 표시"
      ],
      "metadata": {
        "colab": {
          "base_uri": "https://localhost:8080/"
        },
        "id": "qhbNiDjDl3ht",
        "outputId": "e9cdcf90-4b34-4c51-f04a-8d4cbcc1fe99"
      },
      "execution_count": 5,
      "outputs": [
        {
          "output_type": "execute_result",
          "data": {
            "text/plain": [
              "[1, 4, 9, 16, 25]"
            ]
          },
          "metadata": {},
          "execution_count": 5
        }
      ]
    },
    {
      "cell_type": "code",
      "source": [
        "# map 대신에 리스트 컴프리헤션으로 처리할 수 있다\n",
        "# 이때는 원소를 하나씩 처리하기 위해 인라인으로 for문 작성\n",
        "lh = [x*x for x in ll]"
      ],
      "metadata": {
        "id": "0pPFdybml3jF"
      },
      "execution_count": null,
      "outputs": []
    },
    {
      "cell_type": "code",
      "source": [
        "lh"
      ],
      "metadata": {
        "colab": {
          "base_uri": "https://localhost:8080/"
        },
        "id": "arnGmPb9l3ky",
        "outputId": "a4f00512-b59d-407a-cc86-8f4f8e6afcc0"
      },
      "execution_count": null,
      "outputs": [
        {
          "output_type": "execute_result",
          "data": {
            "text/plain": [
              "[1, 4, 9, 16, 25]"
            ]
          },
          "metadata": {},
          "execution_count": 16
        }
      ]
    },
    {
      "cell_type": "code",
      "source": [
        "f = filter(lambda x : x % 2 == 0, lh) # filter도 클래스이다."
      ],
      "metadata": {
        "id": "BTfmftT1l3nY"
      },
      "execution_count": null,
      "outputs": []
    },
    {
      "cell_type": "code",
      "source": [
        "f # filter 클래스의 객체가 생성"
      ],
      "metadata": {
        "colab": {
          "base_uri": "https://localhost:8080/"
        },
        "id": "ZKox-pVel3pX",
        "outputId": "4a78eccf-0917-4268-d157-d746c692c569"
      },
      "execution_count": null,
      "outputs": [
        {
          "output_type": "execute_result",
          "data": {
            "text/plain": [
              "<filter at 0x7e2a2fa54250>"
            ]
          },
          "metadata": {},
          "execution_count": 20
        }
      ]
    },
    {
      "cell_type": "code",
      "source": [
        "[*f] # 필터 객체에 별표를 붙이면, 해당 조건에 맞는 원소만 선택."
      ],
      "metadata": {
        "colab": {
          "base_uri": "https://localhost:8080/"
        },
        "id": "QmaHqPkimwZd",
        "outputId": "c7b97f8f-a703-436a-ebed-e91cf47305b4"
      },
      "execution_count": null,
      "outputs": [
        {
          "output_type": "execute_result",
          "data": {
            "text/plain": [
              "[4, 16]"
            ]
          },
          "metadata": {},
          "execution_count": 19
        }
      ]
    },
    {
      "cell_type": "code",
      "source": [
        "lh1 = [x*x for x in ll if x % 2 == 0] # 필터는 for문 다음에 if문을 사용해 정의."
      ],
      "metadata": {
        "id": "FUGIo6g1mxk6"
      },
      "execution_count": null,
      "outputs": []
    },
    {
      "cell_type": "code",
      "source": [
        "lh1"
      ],
      "metadata": {
        "colab": {
          "base_uri": "https://localhost:8080/"
        },
        "id": "saiC7WH5n02i",
        "outputId": "2f92d2d6-7534-402a-a8b1-af640515cac3"
      },
      "execution_count": null,
      "outputs": [
        {
          "output_type": "execute_result",
          "data": {
            "text/plain": [
              "[4, 16]"
            ]
          },
          "metadata": {},
          "execution_count": 22
        }
      ]
    },
    {
      "cell_type": "markdown",
      "source": [
        "## 딕셔너리(dict)와 집합(set) 컴프리헨션"
      ],
      "metadata": {
        "id": "86cmb6Dcn4T6"
      }
    },
    {
      "cell_type": "code",
      "source": [
        "s = {1, 2, 3, 4, 5}\n",
        "m = map(lambda x : x * x, s) # 집합을 map에 넣어 처리할 수 있다.\n",
        "{*m} # 집합에 map 객체를 넣어 별표를 붙이면 처리한 원소를 집합으로 표시."
      ],
      "metadata": {
        "colab": {
          "base_uri": "https://localhost:8080/"
        },
        "id": "PCEgySKOn2EV",
        "outputId": "d6984669-c3aa-449a-aed0-b3f2efb48d21"
      },
      "execution_count": null,
      "outputs": [
        {
          "output_type": "execute_result",
          "data": {
            "text/plain": [
              "{1, 4, 9, 16, 25}"
            ]
          },
          "metadata": {},
          "execution_count": 23
        }
      ]
    },
    {
      "cell_type": "code",
      "source": [
        "ll = [('a', 1), ('b', 2)] # 순서 쌍으로 된 리스트 객체 생성."
      ],
      "metadata": {
        "id": "XXH9LaVYoNz8"
      },
      "execution_count": null,
      "outputs": []
    },
    {
      "cell_type": "code",
      "source": [
        "def t(x):            # 함수 생성\n",
        "  x = list(x)        # 인자로 전달된 튜플을 리스트로 변환.\n",
        "  x[1] = x[1] * x[1] # 첫 번째 원소를 곱해서 첫 번째 원소에 할당.\n",
        "  x = tuple(x)       # 다시 튜플로 변환.\n",
        "\n",
        "  return x"
      ],
      "metadata": {
        "id": "P3DUQ6IHoTpC"
      },
      "execution_count": null,
      "outputs": []
    },
    {
      "cell_type": "code",
      "source": [
        "# 리스트가 전달되면 함수의 변환을 람다 함수로 표시할 때\n",
        "# 정의된 함수를 표현식에 넣어서 실행\n",
        "d = map(lambda x : t(x), ll)\n",
        "[*d]  # map 객체에 별표를 붙여 처리한 결과를 리스트로 생성."
      ],
      "metadata": {
        "colab": {
          "base_uri": "https://localhost:8080/"
        },
        "id": "yuzl3mZioiR5",
        "outputId": "bf974979-2a52-46ed-cf43-1527e8874afa"
      },
      "execution_count": null,
      "outputs": [
        {
          "output_type": "execute_result",
          "data": {
            "text/plain": [
              "[('a', 1), ('b', 4)]"
            ]
          },
          "metadata": {},
          "execution_count": 26
        }
      ]
    },
    {
      "cell_type": "code",
      "source": [
        "# 딕셔너리 컴프리헨션으로 두 값을 곱하도록 로직을 정하면\n",
        "# 별도의 함수가 없어도 처리 가능.\n",
        "{x:y*y for x, y in ll}"
      ],
      "metadata": {
        "colab": {
          "base_uri": "https://localhost:8080/"
        },
        "id": "RcZV_guIoz0z",
        "outputId": "c69e9744-9c46-4b4c-a721-7d94091f9be9"
      },
      "execution_count": null,
      "outputs": [
        {
          "output_type": "execute_result",
          "data": {
            "text/plain": [
              "{'a': 1, 'b': 4}"
            ]
          },
          "metadata": {},
          "execution_count": 27
        }
      ]
    },
    {
      "cell_type": "markdown",
      "source": [
        "## 컴프리헨션 처리할 때 주의할 점"
      ],
      "metadata": {
        "id": "vC4lxC87o-BP"
      }
    },
    {
      "cell_type": "code",
      "source": [
        "ll = [x for x in range(10)] # 리스트 컴프리헨션에 사용되는 변수는 지역 이름공간으로 처리.\n",
        "ll"
      ],
      "metadata": {
        "colab": {
          "base_uri": "https://localhost:8080/"
        },
        "id": "_3ASVf33o8Er",
        "outputId": "6cf271f4-e619-46ed-a5c2-33ace988f8e8"
      },
      "execution_count": null,
      "outputs": [
        {
          "output_type": "execute_result",
          "data": {
            "text/plain": [
              "[0, 1, 2, 3, 4, 5, 6, 7, 8, 9]"
            ]
          },
          "metadata": {},
          "execution_count": 28
        }
      ]
    },
    {
      "cell_type": "code",
      "source": [
        "x"
      ],
      "metadata": {
        "colab": {
          "base_uri": "https://localhost:8080/",
          "height": 186
        },
        "id": "73uCAh7wpHrU",
        "outputId": "5bbfdde4-cc80-4eb6-81df-e7a2857154e9"
      },
      "execution_count": null,
      "outputs": [
        {
          "output_type": "error",
          "ename": "NameError",
          "evalue": "ignored",
          "traceback": [
            "\u001b[0;31m---------------------------------------------------------------------------\u001b[0m",
            "\u001b[0;31mNameError\u001b[0m                                 Traceback (most recent call last)",
            "\u001b[0;32m<ipython-input-29-6fcf9dfbd479>\u001b[0m in \u001b[0;36m<cell line: 1>\u001b[0;34m()\u001b[0m\n\u001b[0;32m----> 1\u001b[0;31m \u001b[0mx\u001b[0m\u001b[0;34m\u001b[0m\u001b[0;34m\u001b[0m\u001b[0m\n\u001b[0m",
            "\u001b[0;31mNameError\u001b[0m: name 'x' is not defined"
          ]
        }
      ]
    },
    {
      "cell_type": "code",
      "source": [
        "lll = [locals() for x in range(10)] # 지역 이름공간을 locals 함수로 출력.\n",
        "lll"
      ],
      "metadata": {
        "colab": {
          "base_uri": "https://localhost:8080/"
        },
        "id": "buL0Xq6OpIN-",
        "outputId": "172e5041-d610-439d-a94e-85d95479ad9e"
      },
      "execution_count": null,
      "outputs": [
        {
          "output_type": "execute_result",
          "data": {
            "text/plain": [
              "[{'.0': <range_iterator at 0x7e2a225dd4d0>, 'x': 9},\n",
              " {'.0': <range_iterator at 0x7e2a225dd4d0>, 'x': 9},\n",
              " {'.0': <range_iterator at 0x7e2a225dd4d0>, 'x': 9},\n",
              " {'.0': <range_iterator at 0x7e2a225dd4d0>, 'x': 9},\n",
              " {'.0': <range_iterator at 0x7e2a225dd4d0>, 'x': 9},\n",
              " {'.0': <range_iterator at 0x7e2a225dd4d0>, 'x': 9},\n",
              " {'.0': <range_iterator at 0x7e2a225dd4d0>, 'x': 9},\n",
              " {'.0': <range_iterator at 0x7e2a225dd4d0>, 'x': 9},\n",
              " {'.0': <range_iterator at 0x7e2a225dd4d0>, 'x': 9},\n",
              " {'.0': <range_iterator at 0x7e2a225dd4d0>, 'x': 9}]"
            ]
          },
          "metadata": {},
          "execution_count": 30
        }
      ]
    },
    {
      "cell_type": "code",
      "source": [
        "def power (x):     # 함수를 하나 정의\n",
        "  return x * x     # 원소를 받아서 같은 원소를 곱한다."
      ],
      "metadata": {
        "id": "9V3mH_YepSEF"
      },
      "execution_count": null,
      "outputs": []
    },
    {
      "cell_type": "code",
      "source": [
        "l = [power for x in range(3)]  # 리스트 컴프리헨션에 함수 이름만 처리."
      ],
      "metadata": {
        "id": "NvC7O4N6pZci"
      },
      "execution_count": null,
      "outputs": []
    },
    {
      "cell_type": "code",
      "source": [
        "l # 생성된 결과가 아닌 함수만 출력."
      ],
      "metadata": {
        "colab": {
          "base_uri": "https://localhost:8080/"
        },
        "id": "aUob9tq5pehW",
        "outputId": "5cc297b7-2eb3-42f0-f2de-b5d77d6f7846"
      },
      "execution_count": null,
      "outputs": [
        {
          "output_type": "execute_result",
          "data": {
            "text/plain": [
              "[<function __main__.power(x)>,\n",
              " <function __main__.power(x)>,\n",
              " <function __main__.power(x)>]"
            ]
          },
          "metadata": {},
          "execution_count": 34
        }
      ]
    },
    {
      "cell_type": "code",
      "source": [
        "l[0](3) # 저장된 함수를 색인 연산으로 조회된 후에 실행. 함수가 실행되어 반환 값이 있다."
      ],
      "metadata": {
        "colab": {
          "base_uri": "https://localhost:8080/"
        },
        "id": "e4Dd7ehApgQT",
        "outputId": "9b67fdb6-14c8-4b70-fcda-548dde6f45eb"
      },
      "execution_count": null,
      "outputs": [
        {
          "output_type": "execute_result",
          "data": {
            "text/plain": [
              "9"
            ]
          },
          "metadata": {},
          "execution_count": 35
        }
      ]
    },
    {
      "cell_type": "code",
      "source": [
        "ll = [power(x) for x in range(3)] # 리스트 컴프리헨션에서 원소 값으로 출력하려면 함수를 실행하면 된다."
      ],
      "metadata": {
        "id": "DLmnxn9apqe3"
      },
      "execution_count": null,
      "outputs": []
    },
    {
      "cell_type": "code",
      "source": [
        "ll"
      ],
      "metadata": {
        "colab": {
          "base_uri": "https://localhost:8080/"
        },
        "id": "DrdY8ZCbpyBJ",
        "outputId": "06ccc2a1-08ab-440f-fe90-6155eeca60b5"
      },
      "execution_count": null,
      "outputs": [
        {
          "output_type": "execute_result",
          "data": {
            "text/plain": [
              "[0, 1, 4]"
            ]
          },
          "metadata": {},
          "execution_count": 37
        }
      ]
    },
    {
      "cell_type": "markdown",
      "source": [
        "## 해당 코드는 \"한권으로 개발자가 원하던 파이썬 심화 A to Z\" 책의 코드를 참고하였습니다."
      ],
      "metadata": {
        "id": "kJEOUKVjrbUW"
      }
    }
  ]
}