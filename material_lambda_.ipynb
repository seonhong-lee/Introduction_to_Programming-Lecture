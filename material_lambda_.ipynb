{
  "nbformat": 4,
  "nbformat_minor": 0,
  "metadata": {
    "colab": {
      "provenance": []
    },
    "kernelspec": {
      "name": "python3",
      "display_name": "Python 3"
    },
    "language_info": {
      "name": "python"
    }
  },
  "cells": [
    {
      "cell_type": "markdown",
      "source": [
        "## 람다(Lambda) 함수"
      ],
      "metadata": {
        "id": "2wn2LXuzqIDN"
      }
    },
    {
      "cell_type": "code",
      "execution_count": null,
      "metadata": {
        "colab": {
          "base_uri": "https://localhost:8080/"
        },
        "id": "zcGtyrp8qEtm",
        "outputId": "8d68fed8-ee14-4bba-b3ef-53954586e69e"
      },
      "outputs": [
        {
          "output_type": "execute_result",
          "data": {
            "text/plain": [
              "10"
            ]
          },
          "metadata": {},
          "execution_count": 1
        }
      ],
      "source": [
        "(lambda x, y : x+y)(5, 5) # 2개의 매개변수를 정의하고, 매개변수를 합산."
      ]
    },
    {
      "cell_type": "code",
      "source": [
        "lam = lambda x, y : x + y # 이름이 없어 다시 사용하려면 변수에 저장"
      ],
      "metadata": {
        "id": "CJ8dYzP7qQP7"
      },
      "execution_count": null,
      "outputs": []
    },
    {
      "cell_type": "code",
      "source": [
        "import types"
      ],
      "metadata": {
        "id": "X2OfJH02qXkZ"
      },
      "execution_count": null,
      "outputs": []
    },
    {
      "cell_type": "code",
      "source": [
        "type(lam) == types.LambdaType # 람다 함수도 객체이다(람다 함수를 만든 클래스 확인)."
      ],
      "metadata": {
        "colab": {
          "base_uri": "https://localhost:8080/"
        },
        "id": "rQWOwnzBqYu-",
        "outputId": "526842da-bf1b-4ce2-e28b-ceeec04c7cce"
      },
      "execution_count": null,
      "outputs": [
        {
          "output_type": "execute_result",
          "data": {
            "text/plain": [
              "True"
            ]
          },
          "metadata": {},
          "execution_count": 4
        }
      ]
    },
    {
      "cell_type": "code",
      "source": [
        "lam.__name__   # 익명 함수의 __name__ 속성확인."
      ],
      "metadata": {
        "colab": {
          "base_uri": "https://localhost:8080/",
          "height": 36
        },
        "id": "ok_TlJiVqf85",
        "outputId": "3ee6bd68-177e-4d20-d114-a8d97e92c851"
      },
      "execution_count": null,
      "outputs": [
        {
          "output_type": "execute_result",
          "data": {
            "text/plain": [
              "'<lambda>'"
            ],
            "application/vnd.google.colaboratory.intrinsic+json": {
              "type": "string"
            }
          },
          "metadata": {},
          "execution_count": 5
        }
      ]
    },
    {
      "cell_type": "code",
      "source": [
        "(lambda x, y: print(x, y))(5, 5) # 매개변수를 정의하고 콜론 다음에 표현식 작성."
      ],
      "metadata": {
        "colab": {
          "base_uri": "https://localhost:8080/"
        },
        "id": "75chwMVIqmkf",
        "outputId": "1a3791b7-fba1-4d99-b8a5-4fdff167bc1a"
      },
      "execution_count": null,
      "outputs": [
        {
          "output_type": "stream",
          "name": "stdout",
          "text": [
            "5 5\n"
          ]
        }
      ]
    },
    {
      "cell_type": "code",
      "source": [
        "(lambda x, y : pass)(5, 5)       # 표현식에 문자를 넣으면 예외 발생."
      ],
      "metadata": {
        "colab": {
          "base_uri": "https://localhost:8080/",
          "height": 148
        },
        "id": "9Dqk_JjKquPb",
        "outputId": "6277b9f5-f538-4338-f429-809bb6557686"
      },
      "execution_count": null,
      "outputs": [
        {
          "output_type": "error",
          "ename": "SyntaxError",
          "evalue": "ignored",
          "traceback": [
            "\u001b[0;36m  File \u001b[0;32m\"<ipython-input-7-95ff508b1c4e>\"\u001b[0;36m, line \u001b[0;32m1\u001b[0m\n\u001b[0;31m    (lambda x, y : pass)(5, 5)       # 표현식에 문자를 넣으면 예외 발생.\u001b[0m\n\u001b[0m                   ^\u001b[0m\n\u001b[0;31mSyntaxError\u001b[0m\u001b[0;31m:\u001b[0m invalid syntax\n"
          ]
        }
      ]
    },
    {
      "cell_type": "code",
      "source": [
        "l = [1, 2, 3, 4]\n",
        "func = lambda x : x*x # 람다 함수를 정의하고 재사용하기 위해 변수에 할당.\n",
        "(lambda func, obj : [func(x) for x in obj])(func, l) # 람다 함수에 리스트 컴프리헨션을 작성하고, 그 안에 외부에서 정의된 람다 함수 실행."
      ],
      "metadata": {
        "colab": {
          "base_uri": "https://localhost:8080/"
        },
        "id": "y753-VDOq0MO",
        "outputId": "3e2d58b3-7e6e-4612-9bb3-2eccbab0c7f9"
      },
      "execution_count": null,
      "outputs": [
        {
          "output_type": "execute_result",
          "data": {
            "text/plain": [
              "[1, 4, 9, 16]"
            ]
          },
          "metadata": {},
          "execution_count": 8
        }
      ]
    },
    {
      "cell_type": "code",
      "source": [
        "c = lambda func: func # 람다 함수를 전달받아 람다 함수 변환.\n",
        "c = c(func)           # 변환된 람다 함수 실행.\n",
        "c(10)                 # 정의된 함수 실행."
      ],
      "metadata": {
        "colab": {
          "base_uri": "https://localhost:8080/"
        },
        "id": "vkiTFgMerLB2",
        "outputId": "a9e9dc34-5398-4c07-b18e-e59e822a83b4"
      },
      "execution_count": null,
      "outputs": [
        {
          "output_type": "execute_result",
          "data": {
            "text/plain": [
              "100"
            ]
          },
          "metadata": {},
          "execution_count": 9
        }
      ]
    },
    {
      "cell_type": "code",
      "source": [
        "b = (lambda func: lambda *args, **kwargs : func(*args, **kwargs))\n",
        "b = b(func)\n",
        "b(10)"
      ],
      "metadata": {
        "colab": {
          "base_uri": "https://localhost:8080/"
        },
        "id": "3KHWtTb3rTvZ",
        "outputId": "a4563bcf-f990-40a2-ea1f-c3b2a483bddc"
      },
      "execution_count": null,
      "outputs": [
        {
          "output_type": "execute_result",
          "data": {
            "text/plain": [
              "100"
            ]
          },
          "metadata": {},
          "execution_count": 10
        }
      ]
    },
    {
      "cell_type": "code",
      "source": [
        "d = (lambda func : lambda *args, **kwargs : func(*args, **kwargs))\n",
        "\n",
        "@d               # 위에서 정의한 람다 함수를 데코레이터 처리할 수도 있다.\n",
        "def add(x, y):   # 데코레이터 처리하면 실행 함수가 저장되고, 내부 함수가 변환된다.\n",
        "  return x + y"
      ],
      "metadata": {
        "id": "bxvjtBN7rdM3"
      },
      "execution_count": null,
      "outputs": []
    },
    {
      "cell_type": "code",
      "source": [
        "add(10, 1110)    # 실행 함수에 인자를 넣어 실행"
      ],
      "metadata": {
        "colab": {
          "base_uri": "https://localhost:8080/"
        },
        "id": "AZlxd6krrw4d",
        "outputId": "0fd163c3-882d-4f77-9e2e-2c0abb174f8d"
      },
      "execution_count": null,
      "outputs": [
        {
          "output_type": "execute_result",
          "data": {
            "text/plain": [
              "1120"
            ]
          },
          "metadata": {},
          "execution_count": 12
        }
      ]
    },
    {
      "cell_type": "code",
      "source": [
        "p = lambda x : lambda y : x + y # 인자를 분리해서 받을 때는 외부 람다 함수와 내부 람다 함수에 인자를 분리"
      ],
      "metadata": {
        "id": "GPuZcDtbr0dv"
      },
      "execution_count": null,
      "outputs": []
    },
    {
      "cell_type": "code",
      "source": [
        "p = p(10)   # 내부 람다 함수에서 마지막 로직 처리 실행."
      ],
      "metadata": {
        "id": "Hdmuwydwr7A2"
      },
      "execution_count": null,
      "outputs": []
    },
    {
      "cell_type": "code",
      "source": [
        "p(20)"
      ],
      "metadata": {
        "colab": {
          "base_uri": "https://localhost:8080/"
        },
        "id": "FrlgC2hjsBX-",
        "outputId": "8cab7dd1-dde5-4d06-efd0-0d2696cb6f5f"
      },
      "execution_count": null,
      "outputs": [
        {
          "output_type": "execute_result",
          "data": {
            "text/plain": [
              "30"
            ]
          },
          "metadata": {},
          "execution_count": 16
        }
      ]
    },
    {
      "cell_type": "markdown",
      "source": [
        "## 해당 코드는 \"한권으로 개발자가 원하던 파이썬 심화 A to Z\" 책의 코드를 참고하였습니다."
      ],
      "metadata": {
        "id": "mHHC-k2SrSJt"
      }
    }
  ]
}