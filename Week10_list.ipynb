{
  "nbformat": 4,
  "nbformat_minor": 0,
  "metadata": {
    "colab": {
      "provenance": []
    },
    "kernelspec": {
      "name": "python3",
      "display_name": "Python 3"
    },
    "language_info": {
      "name": "python"
    }
  },
  "cells": [
    {
      "cell_type": "markdown",
      "source": [
        "## List (리스트)"
      ],
      "metadata": {
        "id": "GRmxzUHXcYe1"
      }
    },
    {
      "cell_type": "markdown",
      "source": [
        "### 리스트 생성"
      ],
      "metadata": {
        "id": "_84isaMudKQa"
      }
    },
    {
      "cell_type": "markdown",
      "source": [
        "\n",
        "\n",
        "*   직접 요소들을 명시해서 리스트 생성\n",
        "\n"
      ],
      "metadata": {
        "id": "j-6fD1RZx46F"
      }
    },
    {
      "cell_type": "code",
      "execution_count": null,
      "metadata": {
        "id": "tfuSaUmJ8D_J"
      },
      "outputs": [],
      "source": [
        "lst = [1, 2]"
      ]
    },
    {
      "cell_type": "code",
      "source": [
        "[1, 'h', 'i', ' ', \"ab\", 3.3, 2, 5]"
      ],
      "metadata": {
        "colab": {
          "base_uri": "https://localhost:8080/"
        },
        "id": "6gyz6_S68Juo",
        "outputId": "79ace7a6-a03a-49eb-b3e0-175bdcba0bb9"
      },
      "execution_count": null,
      "outputs": [
        {
          "output_type": "execute_result",
          "data": {
            "text/plain": [
              "[1, 'h', 'i', ' ', 'ab', 3.3, 2, 5]"
            ]
          },
          "metadata": {},
          "execution_count": 2
        }
      ]
    },
    {
      "cell_type": "code",
      "source": [
        "[1, 2, 3, [1, 2]]"
      ],
      "metadata": {
        "colab": {
          "base_uri": "https://localhost:8080/"
        },
        "id": "2h5yCemz8RPN",
        "outputId": "8cc9f2b7-59fe-4c1b-f0e1-58827f062f5c"
      },
      "execution_count": null,
      "outputs": [
        {
          "output_type": "execute_result",
          "data": {
            "text/plain": [
              "[1, 2, 3, [1, 2]]"
            ]
          },
          "metadata": {},
          "execution_count": 3
        }
      ]
    },
    {
      "cell_type": "code",
      "source": [
        "lst = [1, 2]\n",
        "print(lst)\n",
        "\n",
        "lst2 = [1, 'h', 'i', ' ', \"ab\", 3.3, 2, 5]\n",
        "print(lst2)\n",
        "\n",
        "lst3 = [1, 2, 3, [1, 2]]\n",
        "print(lst3)"
      ],
      "metadata": {
        "colab": {
          "base_uri": "https://localhost:8080/"
        },
        "id": "TRAIeZEJ8Tgr",
        "outputId": "623fccb6-dd73-4756-a3c3-27d39e74d206"
      },
      "execution_count": null,
      "outputs": [
        {
          "output_type": "stream",
          "name": "stdout",
          "text": [
            "[1, 2]\n",
            "[1, 'h', 'i', ' ', 'ab', 3.3, 2, 5]\n",
            "[1, 2, 3, [1, 2]]\n"
          ]
        }
      ]
    },
    {
      "cell_type": "code",
      "source": [
        "num1 = 3\n",
        "str1 = \"abc\"\n",
        "lst = [num1, str1]\n",
        "\n",
        "print(lst)"
      ],
      "metadata": {
        "colab": {
          "base_uri": "https://localhost:8080/"
        },
        "id": "6-n31JB88f1o",
        "outputId": "836f9642-5abf-421d-ac99-dd853b6d3a14"
      },
      "execution_count": null,
      "outputs": [
        {
          "output_type": "stream",
          "name": "stdout",
          "text": [
            "[3, 'abc']\n"
          ]
        }
      ]
    },
    {
      "cell_type": "markdown",
      "source": [
        "\n",
        "\n",
        "*   빈 리스트 생성 후 요소 추가\n",
        "\n"
      ],
      "metadata": {
        "id": "eijPe3eOyAbM"
      }
    },
    {
      "cell_type": "code",
      "source": [
        "lst1 = []\n",
        "print(lst1)\n",
        "\n",
        "lst2 = list()\n",
        "print(lst2)"
      ],
      "metadata": {
        "colab": {
          "base_uri": "https://localhost:8080/"
        },
        "id": "7_xeXREz8nUA",
        "outputId": "adc410b8-023a-427e-ab71-6bafc6710af7"
      },
      "execution_count": null,
      "outputs": [
        {
          "output_type": "stream",
          "name": "stdout",
          "text": [
            "[]\n",
            "[]\n"
          ]
        }
      ]
    },
    {
      "cell_type": "code",
      "source": [
        "lst1 = []\n",
        "lst1.append(4)\n",
        "print(lst1)\n",
        "\n",
        "lst1.append('5')\n",
        "print(lst1)\n",
        "\n",
        "lst1.append([2, 3])\n",
        "print(lst1)"
      ],
      "metadata": {
        "colab": {
          "base_uri": "https://localhost:8080/"
        },
        "id": "8S85lnBm8tb8",
        "outputId": "f8050a68-ef9b-4bd1-ad6c-017517f4fc0f"
      },
      "execution_count": null,
      "outputs": [
        {
          "output_type": "stream",
          "name": "stdout",
          "text": [
            "[4]\n",
            "[4, '5']\n",
            "[4, '5', [2, 3]]\n"
          ]
        }
      ]
    },
    {
      "cell_type": "code",
      "source": [
        "lst1 = [2, 3]\n",
        "lst2 = [4, 5]\n",
        "lst1.extend(lst2)\n",
        "print(lst1)"
      ],
      "metadata": {
        "colab": {
          "base_uri": "https://localhost:8080/"
        },
        "id": "0Z2YisT284Fy",
        "outputId": "4744666b-30fe-4fa8-bf14-c4ad4fbcdb06"
      },
      "execution_count": null,
      "outputs": [
        {
          "output_type": "stream",
          "name": "stdout",
          "text": [
            "[2, 3, 4, 5]\n"
          ]
        }
      ]
    },
    {
      "cell_type": "code",
      "source": [
        "print(lst1)\n",
        "lst1.extend(\"abc\")\n",
        "print(lst1)"
      ],
      "metadata": {
        "colab": {
          "base_uri": "https://localhost:8080/"
        },
        "id": "JpWUS77H8_ST",
        "outputId": "91d30669-cfd9-4017-af96-0e743570ae77"
      },
      "execution_count": null,
      "outputs": [
        {
          "output_type": "stream",
          "name": "stdout",
          "text": [
            "[2, 3, 4, 5]\n",
            "[2, 3, 4, 5, 'a', 'b', 'c']\n"
          ]
        }
      ]
    },
    {
      "cell_type": "markdown",
      "source": [
        "\n",
        "\n",
        "*   슬라이싱을 이용한 새로운 리스트 생성\n",
        "\n"
      ],
      "metadata": {
        "id": "g1KmfMjYyIP5"
      }
    },
    {
      "cell_type": "code",
      "source": [
        "lst1 = [1, 2, 3, \"abc\", 4, 5]\n",
        "print(lst1[2:4]) # lst1[2]와 lst1[3]으로 리스트를 구성"
      ],
      "metadata": {
        "colab": {
          "base_uri": "https://localhost:8080/"
        },
        "id": "pdXv-CL99Swc",
        "outputId": "290c9767-e73d-44de-8dfa-fc6509dda164"
      },
      "execution_count": null,
      "outputs": [
        {
          "output_type": "stream",
          "name": "stdout",
          "text": [
            "[3, 'abc']\n"
          ]
        }
      ]
    },
    {
      "cell_type": "code",
      "source": [
        "print(lst1[:3]) # lst1[0]~lst1[2]까지의 요소\n",
        "print(lst1[2:]) # lst1[2]~lst[len(lst1)-1]까지의 요소\n",
        "print(lst1[:])  # lst1[0]~lst[len(lst1)-1]까지의 요소"
      ],
      "metadata": {
        "colab": {
          "base_uri": "https://localhost:8080/"
        },
        "id": "GXdTBFhl9deM",
        "outputId": "fcc39527-da1f-48a5-cf2b-f8911603a815"
      },
      "execution_count": null,
      "outputs": [
        {
          "output_type": "stream",
          "name": "stdout",
          "text": [
            "[1, 2, 3]\n",
            "[3, 'abc', 4, 5]\n",
            "[1, 2, 3, 'abc', 4, 5]\n"
          ]
        }
      ]
    },
    {
      "cell_type": "code",
      "source": [
        "print(lst1[2:5:2]) # lst1[2]~lst1[4]까지 2씩 건너뜀: lst1[2], lst1[4]\n",
        "print(lst1[2:6:2]) # lst1[2]~lst1[5]까지 2씩 건너뜀: lst1[2], lst1[4]\n",
        "print(lst1[:3:2])  # lst1[0]~lst1[2]: lst1[0], lst1[2]\n",
        "print(lst1[2::2])  # lst1[2]~lst1[len(lst1)-1]: ;st1[2], lst1[4]"
      ],
      "metadata": {
        "colab": {
          "base_uri": "https://localhost:8080/"
        },
        "id": "2Ej16btR9wqB",
        "outputId": "938affb6-3950-4109-99a7-d5b793764ae9"
      },
      "execution_count": null,
      "outputs": [
        {
          "output_type": "stream",
          "name": "stdout",
          "text": [
            "[3, 4]\n",
            "[3, 4]\n",
            "[1, 3]\n",
            "[3, 4]\n"
          ]
        }
      ]
    },
    {
      "cell_type": "markdown",
      "source": [
        "\n",
        "\n",
        "*   리스트를 연결해서 새로운 리스트 생성\n",
        "\n"
      ],
      "metadata": {
        "id": "z0nB6IfLyN7u"
      }
    },
    {
      "cell_type": "code",
      "source": [
        "lst1 = [1, 2, 3]\n",
        "lst2 = [\"abc\", 4, 5]\n",
        "lst3 = lst1 + lst2 # lst1과 lst2를 연결한 새로운 리스트를 lst3에 저장\n",
        "print(lst3)"
      ],
      "metadata": {
        "colab": {
          "base_uri": "https://localhost:8080/"
        },
        "id": "KOmAsBag-ZZj",
        "outputId": "a12a94d6-3e8d-4286-8926-3bb32999ca93"
      },
      "execution_count": null,
      "outputs": [
        {
          "output_type": "stream",
          "name": "stdout",
          "text": [
            "[1, 2, 3, 'abc', 4, 5]\n"
          ]
        }
      ]
    },
    {
      "cell_type": "code",
      "source": [
        "lst1 = [1, 2, 3]\n",
        "lst2 = lst1 * 4 # lst1을 네 번 반복해서 새로운 리스트 생성\n",
        "print(lst2)"
      ],
      "metadata": {
        "colab": {
          "base_uri": "https://localhost:8080/"
        },
        "id": "sSDAsKNu-mYl",
        "outputId": "a15937b2-bdad-40e7-ddd9-c5c4b930772d"
      },
      "execution_count": null,
      "outputs": [
        {
          "output_type": "stream",
          "name": "stdout",
          "text": [
            "[1, 2, 3, 1, 2, 3, 1, 2, 3, 1, 2, 3]\n"
          ]
        }
      ]
    },
    {
      "cell_type": "markdown",
      "source": [
        "## 리스트와 대입 연산자"
      ],
      "metadata": {
        "id": "vBobV9bDyUJK"
      }
    },
    {
      "cell_type": "code",
      "source": [
        "lst = [1, 2, 3]\n",
        "print(lst)"
      ],
      "metadata": {
        "colab": {
          "base_uri": "https://localhost:8080/"
        },
        "id": "4wA7QfHy-tQO",
        "outputId": "c2f98e19-54fc-4cdd-e29a-bb2d7a7d59b9"
      },
      "execution_count": null,
      "outputs": [
        {
          "output_type": "stream",
          "name": "stdout",
          "text": [
            "[1, 2, 3]\n"
          ]
        }
      ]
    },
    {
      "cell_type": "code",
      "source": [
        "num = 4\n",
        "[num] = [3] # (1) num = 3과 같음\n",
        "print(num)"
      ],
      "metadata": {
        "colab": {
          "base_uri": "https://localhost:8080/"
        },
        "id": "OjNurVpq-wrw",
        "outputId": "83aee5d3-b089-4c17-cbb4-6e2c6b8b8e72"
      },
      "execution_count": null,
      "outputs": [
        {
          "output_type": "stream",
          "name": "stdout",
          "text": [
            "3\n"
          ]
        }
      ]
    },
    {
      "cell_type": "code",
      "source": [
        "num1 = 4\n",
        "num2 = 5\n",
        "[num1, num2] = [3, 4] # num1 = 3, num2 = 4를 실행시키는 것과 같음\n",
        "print(f\"num1 = {num1}, num2 = {num2}\")"
      ],
      "metadata": {
        "colab": {
          "base_uri": "https://localhost:8080/"
        },
        "id": "MK9amsPb-3Gj",
        "outputId": "22a30206-455a-44f9-ce23-6be3a59e7cc0"
      },
      "execution_count": null,
      "outputs": [
        {
          "output_type": "stream",
          "name": "stdout",
          "text": [
            "num1 = 3, num2 = 4\n"
          ]
        }
      ]
    },
    {
      "cell_type": "code",
      "source": [
        "[num1, num3] = [1, \"abc\"] # 변수 num3을 생성\n",
        "print(f\"num1 = {num1}, num3 = {num3}\")"
      ],
      "metadata": {
        "colab": {
          "base_uri": "https://localhost:8080/"
        },
        "id": "v3cn5Jcl_E4y",
        "outputId": "d0098a72-cd15-4483-c6aa-2d8fc544f49a"
      },
      "execution_count": null,
      "outputs": [
        {
          "output_type": "stream",
          "name": "stdout",
          "text": [
            "num1 = 1, num3 = abc\n"
          ]
        }
      ]
    },
    {
      "cell_type": "markdown",
      "source": [
        "## 리스트의 요소 개수 확인"
      ],
      "metadata": {
        "id": "lOTJltsiyXvv"
      }
    },
    {
      "cell_type": "code",
      "source": [
        "e = []\n",
        "print(len(e))\n",
        "\n",
        "print(len(lst1)) # lst1 = [1, 2, 3]\n",
        "\n",
        "print(len([])) # len()에 직접 리스트를 명시해도 됨\n",
        "\n",
        "print(len([1, 2, 3, [1, 2]]))"
      ],
      "metadata": {
        "colab": {
          "base_uri": "https://localhost:8080/"
        },
        "id": "y8DGFuAq_O5j",
        "outputId": "64fff891-c4e6-447e-e2c2-bcbddf97c64e"
      },
      "execution_count": null,
      "outputs": [
        {
          "output_type": "stream",
          "name": "stdout",
          "text": [
            "0\n",
            "3\n",
            "0\n",
            "4\n"
          ]
        }
      ]
    },
    {
      "cell_type": "markdown",
      "source": [
        "## 리스트 요소에 접근\n"
      ],
      "metadata": {
        "id": "F3QuCDzoyc44"
      }
    },
    {
      "cell_type": "markdown",
      "source": [
        "\n",
        "\n",
        "*   인덱싱\n",
        "\n"
      ],
      "metadata": {
        "id": "sZj0Ek0ByfVC"
      }
    },
    {
      "cell_type": "code",
      "source": [
        "print(lst1[0], lst1[1], lst1[2])"
      ],
      "metadata": {
        "colab": {
          "base_uri": "https://localhost:8080/"
        },
        "id": "2Zrbiswy_XhI",
        "outputId": "3ff8096d-3b1f-4938-f85e-0d104aacec64"
      },
      "execution_count": null,
      "outputs": [
        {
          "output_type": "stream",
          "name": "stdout",
          "text": [
            "1 2 3\n"
          ]
        }
      ]
    },
    {
      "cell_type": "markdown",
      "source": [
        "\n",
        "\n",
        "*   중첩된 리스트 요소에 접근\n",
        "\n"
      ],
      "metadata": {
        "id": "ore3kxltegJw"
      }
    },
    {
      "cell_type": "code",
      "source": [
        "lst = [1, 2, [3, 4, 5]]\n",
        "nestedLst = lst[2] # nestedLst가 lst[2]에 있는 리스트를 나타내는 변수\n",
        "\n",
        "print(nestedLst[0])\n",
        "print(lst[2][0])\n",
        "print(lst[2][1])"
      ],
      "metadata": {
        "colab": {
          "base_uri": "https://localhost:8080/"
        },
        "id": "mC5KYAFsd283",
        "outputId": "7d197157-2554-4173-f472-98545e311aec"
      },
      "execution_count": null,
      "outputs": [
        {
          "output_type": "stream",
          "name": "stdout",
          "text": [
            "3\n",
            "3\n",
            "4\n"
          ]
        }
      ]
    },
    {
      "cell_type": "code",
      "source": [
        "lst1 = [1, 2, [3, [6, 7], 5]]\n",
        "print(lst1[2][1][1]) #lst1의 세 번째의 두 번째의 두 번째 요소"
      ],
      "metadata": {
        "colab": {
          "base_uri": "https://localhost:8080/"
        },
        "id": "fNgXL7bpevwA",
        "outputId": "0e1fb0ce-ec95-4c94-f997-4b6657868309"
      },
      "execution_count": null,
      "outputs": [
        {
          "output_type": "stream",
          "name": "stdout",
          "text": [
            "7\n"
          ]
        }
      ]
    },
    {
      "cell_type": "markdown",
      "source": [
        "\n",
        "\n",
        "*   반복문을 이용해서 요소에 접근\n",
        "\n"
      ],
      "metadata": {
        "id": "vEPRnzzdi9OS"
      }
    },
    {
      "cell_type": "code",
      "source": [
        "for i in range(len(lst1)):\n",
        "  print(lst1[i])"
      ],
      "metadata": {
        "colab": {
          "base_uri": "https://localhost:8080/"
        },
        "id": "XUx1Iqxji8PC",
        "outputId": "f13b3370-ced0-41a4-9e97-4c6cca52cbd8"
      },
      "execution_count": null,
      "outputs": [
        {
          "output_type": "stream",
          "name": "stdout",
          "text": [
            "1\n",
            "2\n",
            "[3, [6, 7], 5]\n"
          ]
        }
      ]
    },
    {
      "cell_type": "code",
      "source": [
        "idx = 0\n",
        "while idx < len(lst1):\n",
        "  print(lst1[idx])\n",
        "  idx += 1"
      ],
      "metadata": {
        "colab": {
          "base_uri": "https://localhost:8080/"
        },
        "id": "jozFf32fjDr2",
        "outputId": "a76345f4-c379-4463-b59a-dacd4b579627"
      },
      "execution_count": null,
      "outputs": [
        {
          "output_type": "stream",
          "name": "stdout",
          "text": [
            "1\n",
            "2\n",
            "[3, [6, 7], 5]\n"
          ]
        }
      ]
    },
    {
      "cell_type": "markdown",
      "source": [
        "\n",
        "\n",
        "*   반복자 사용\n",
        "\n"
      ],
      "metadata": {
        "id": "-ymSphGxjP7j"
      }
    },
    {
      "cell_type": "code",
      "source": [
        "for item in lst1:\n",
        "  print(item)"
      ],
      "metadata": {
        "colab": {
          "base_uri": "https://localhost:8080/"
        },
        "id": "QEj6LCOYjOI4",
        "outputId": "e3c57580-d231-4a81-f76b-3c73dc124f56"
      },
      "execution_count": null,
      "outputs": [
        {
          "output_type": "stream",
          "name": "stdout",
          "text": [
            "1\n",
            "2\n",
            "[3, [6, 7], 5]\n"
          ]
        }
      ]
    },
    {
      "cell_type": "code",
      "source": [
        "for ch in \"hello\":\n",
        "  print(ch)"
      ],
      "metadata": {
        "colab": {
          "base_uri": "https://localhost:8080/"
        },
        "id": "FqSU5wvTjV6d",
        "outputId": "dc8199db-f27c-4f11-8637-7b9edf238d22"
      },
      "execution_count": null,
      "outputs": [
        {
          "output_type": "stream",
          "name": "stdout",
          "text": [
            "h\n",
            "e\n",
            "l\n",
            "l\n",
            "o\n"
          ]
        }
      ]
    },
    {
      "cell_type": "code",
      "source": [
        "lst = [8, 9, 4, 5, 10]\n",
        "sum = 0\n",
        "for n in lst:\n",
        "  sum += n\n",
        "\n",
        "print(sum)"
      ],
      "metadata": {
        "colab": {
          "base_uri": "https://localhost:8080/"
        },
        "id": "m_FwHeycjel-",
        "outputId": "e072d1e7-9223-4720-b5ac-48598e2dc4ca"
      },
      "execution_count": null,
      "outputs": [
        {
          "output_type": "stream",
          "name": "stdout",
          "text": [
            "36\n"
          ]
        }
      ]
    },
    {
      "cell_type": "markdown",
      "source": [
        "## 요소 변경"
      ],
      "metadata": {
        "id": "pWki87K8jqwO"
      }
    },
    {
      "cell_type": "markdown",
      "source": [
        "\n",
        "\n",
        "*   단일 요소 변경\n",
        "\n"
      ],
      "metadata": {
        "id": "sfenZxzSjsfd"
      }
    },
    {
      "cell_type": "code",
      "source": [
        "lst1 = [1, 2, 3, \"abc\"]\n",
        "lst1[2] = 4\n",
        "print(lst1)                  # 3을 4로 변경\n",
        "\n",
        "lst1[3] = [\"ab\", \"a\", \"def\"] # \"abc\"를 [\"ab\", \"a\", \"def\"]로 변경\n",
        "print(lst1)\n",
        "\n",
        "lst1[0] = \"ab\"               # 문자열을 한 개의 덩어리로 취급\n",
        "print(lst1)"
      ],
      "metadata": {
        "colab": {
          "base_uri": "https://localhost:8080/"
        },
        "id": "0Cn7gRrjjkMK",
        "outputId": "47b126a3-bfa0-4c28-e36a-fc1d89d6cd94"
      },
      "execution_count": null,
      "outputs": [
        {
          "output_type": "stream",
          "name": "stdout",
          "text": [
            "[1, 2, 4, 'abc']\n",
            "[1, 2, 4, ['ab', 'a', 'def']]\n",
            "['ab', 2, 4, ['ab', 'a', 'def']]\n"
          ]
        }
      ]
    },
    {
      "cell_type": "code",
      "source": [
        "lst1[4] = \"abc\""
      ],
      "metadata": {
        "colab": {
          "base_uri": "https://localhost:8080/",
          "height": 181
        },
        "id": "QxN8nuzXkGg1",
        "outputId": "e2f87d35-bb65-4138-9c58-0a5de0ddf453"
      },
      "execution_count": null,
      "outputs": [
        {
          "output_type": "error",
          "ename": "IndexError",
          "evalue": "ignored",
          "traceback": [
            "\u001b[0;31m---------------------------------------------------------------------------\u001b[0m",
            "\u001b[0;31mIndexError\u001b[0m                                Traceback (most recent call last)",
            "\u001b[0;32m<ipython-input-29-bc0bded7aee5>\u001b[0m in \u001b[0;36m<cell line: 1>\u001b[0;34m()\u001b[0m\n\u001b[0;32m----> 1\u001b[0;31m \u001b[0mlst1\u001b[0m\u001b[0;34m[\u001b[0m\u001b[0;36m4\u001b[0m\u001b[0;34m]\u001b[0m \u001b[0;34m=\u001b[0m \u001b[0;34m\"abc\"\u001b[0m\u001b[0;34m\u001b[0m\u001b[0;34m\u001b[0m\u001b[0m\n\u001b[0m",
            "\u001b[0;31mIndexError\u001b[0m: list assignment index out of range"
          ]
        }
      ]
    },
    {
      "cell_type": "markdown",
      "source": [
        "\n",
        "\n",
        "*   여러 요소 변경\n",
        "\n"
      ],
      "metadata": {
        "id": "BuIkcCVSkNdd"
      }
    },
    {
      "cell_type": "code",
      "source": [
        "lst2 = [1, 2, 3, \"abc\"]\n",
        "lst2[1:2] = [\"g\", \"h\"]  # lst2[1]을 제거하고 그 자리에 \"g\", \"h\"를 삽입\n",
        "print(lst2)\n",
        "\n",
        "lst2[2:4] = \"ab\"        # \"h\"와 3을 삭제하고 \"ab\"를 \"a\", \"b\"로 삽입\n",
        "print(lst2)"
      ],
      "metadata": {
        "id": "qhH6nZamkMMD",
        "colab": {
          "base_uri": "https://localhost:8080/"
        },
        "outputId": "53d97cba-1dfd-47cc-9291-81f943c36f41"
      },
      "execution_count": null,
      "outputs": [
        {
          "output_type": "stream",
          "name": "stdout",
          "text": [
            "[1, 'g', 'h', 3, 'abc']\n",
            "[1, 'g', 'a', 'b', 'abc']\n"
          ]
        }
      ]
    },
    {
      "cell_type": "code",
      "source": [
        "lst2[1:3] = 3          # lst2[1], lst2[2]를 삭제하고 3을 삽입"
      ],
      "metadata": {
        "id": "HdlpeahEkfVF",
        "colab": {
          "base_uri": "https://localhost:8080/",
          "height": 181
        },
        "outputId": "396f2c39-98aa-450f-c44d-5ddf104dcac1"
      },
      "execution_count": null,
      "outputs": [
        {
          "output_type": "error",
          "ename": "TypeError",
          "evalue": "ignored",
          "traceback": [
            "\u001b[0;31m---------------------------------------------------------------------------\u001b[0m",
            "\u001b[0;31mTypeError\u001b[0m                                 Traceback (most recent call last)",
            "\u001b[0;32m<ipython-input-31-ebe58e7d7941>\u001b[0m in \u001b[0;36m<cell line: 1>\u001b[0;34m()\u001b[0m\n\u001b[0;32m----> 1\u001b[0;31m \u001b[0mlst2\u001b[0m\u001b[0;34m[\u001b[0m\u001b[0;36m1\u001b[0m\u001b[0;34m:\u001b[0m\u001b[0;36m3\u001b[0m\u001b[0;34m]\u001b[0m \u001b[0;34m=\u001b[0m \u001b[0;36m3\u001b[0m          \u001b[0;31m# lst2[1], lst2[2]를 삭제하고 3을 삽입\u001b[0m\u001b[0;34m\u001b[0m\u001b[0;34m\u001b[0m\u001b[0m\n\u001b[0m",
            "\u001b[0;31mTypeError\u001b[0m: can only assign an iterable"
          ]
        }
      ]
    },
    {
      "cell_type": "code",
      "source": [
        "lst2[1:2] = 3          # lst2[1]을 삭제하고 3을 삽입"
      ],
      "metadata": {
        "colab": {
          "base_uri": "https://localhost:8080/",
          "height": 181
        },
        "id": "xYcgQypKFgn3",
        "outputId": "3cb5bab5-0137-4c9c-e815-294ea4e0e5af"
      },
      "execution_count": null,
      "outputs": [
        {
          "output_type": "error",
          "ename": "TypeError",
          "evalue": "ignored",
          "traceback": [
            "\u001b[0;31m---------------------------------------------------------------------------\u001b[0m",
            "\u001b[0;31mTypeError\u001b[0m                                 Traceback (most recent call last)",
            "\u001b[0;32m<ipython-input-32-927d2a4992eb>\u001b[0m in \u001b[0;36m<cell line: 1>\u001b[0;34m()\u001b[0m\n\u001b[0;32m----> 1\u001b[0;31m \u001b[0mlst2\u001b[0m\u001b[0;34m[\u001b[0m\u001b[0;36m1\u001b[0m\u001b[0;34m:\u001b[0m\u001b[0;36m2\u001b[0m\u001b[0;34m]\u001b[0m \u001b[0;34m=\u001b[0m \u001b[0;36m3\u001b[0m          \u001b[0;31m# lst2[1]을 삭제하고 3을 삽입\u001b[0m\u001b[0;34m\u001b[0m\u001b[0;34m\u001b[0m\u001b[0m\n\u001b[0m",
            "\u001b[0;31mTypeError\u001b[0m: can only assign an iterable"
          ]
        }
      ]
    },
    {
      "cell_type": "code",
      "source": [
        "print(lst2)\n",
        "lst2[10:15] = \"12\"           # (1)\n",
        "print(lst2)\n",
        "\n",
        "lst2[-17:-14] = \"34\"\n",
        "print(lst2)"
      ],
      "metadata": {
        "id": "rSVg48o1kw5x",
        "colab": {
          "base_uri": "https://localhost:8080/"
        },
        "outputId": "7e2a130a-8ede-48fe-e85e-3c21356ab40d"
      },
      "execution_count": null,
      "outputs": [
        {
          "output_type": "stream",
          "name": "stdout",
          "text": [
            "[1, 'g', 'a', 'b', 'abc']\n",
            "[1, 'g', 'a', 'b', 'abc', '1', '2']\n",
            "['3', '4', 1, 'g', 'a', 'b', 'abc', '1', '2']\n"
          ]
        }
      ]
    },
    {
      "cell_type": "markdown",
      "source": [
        "## 요소 삭제"
      ],
      "metadata": {
        "id": "xzX8_0Dgls6u"
      }
    },
    {
      "cell_type": "markdown",
      "source": [
        "\n",
        "\n",
        "*   위치를 이용한 요소 삭제\n",
        "\n"
      ],
      "metadata": {
        "id": "fnEQo2Oslu_d"
      }
    },
    {
      "cell_type": "code",
      "source": [
        "lst3 = [1, 2, 3, \"abc\", \"g\", \"h\"]\n",
        "del(lst3[1]) # 2를 삭제\n",
        "print(lst3)"
      ],
      "metadata": {
        "id": "eRtuu78Tks9H",
        "colab": {
          "base_uri": "https://localhost:8080/"
        },
        "outputId": "18beba10-6efb-4909-e53f-505f237f81df"
      },
      "execution_count": null,
      "outputs": [
        {
          "output_type": "stream",
          "name": "stdout",
          "text": [
            "[1, 3, 'abc', 'g', 'h']\n"
          ]
        }
      ]
    },
    {
      "cell_type": "code",
      "source": [
        "del lst3[1]\n",
        "print(lst3)"
      ],
      "metadata": {
        "id": "V2Y4XNdQl6D4",
        "colab": {
          "base_uri": "https://localhost:8080/"
        },
        "outputId": "6e511aaa-18fd-4399-8ba7-094970a8b620"
      },
      "execution_count": null,
      "outputs": [
        {
          "output_type": "stream",
          "name": "stdout",
          "text": [
            "[1, 'abc', 'g', 'h']\n"
          ]
        }
      ]
    },
    {
      "cell_type": "code",
      "source": [
        "lst3 = [1, 2, 3, \"abc\", \"g\", \"h\"]\n",
        "del(lst3[0:2])  # del(lst3[:2])와 같음\n",
        "print(lst3)\n",
        "\n",
        "lst3[0:2] = []  # 3. \"abc\"를 삭제\n",
        "print(lst3)\n",
        "\n",
        "lst3[:1] = []   # lst3[0] 즉 \"g\"만 삭제\n",
        "print(lst3)\n",
        "\n",
        "del(lst3[0])\n",
        "print(lst3)"
      ],
      "metadata": {
        "id": "LwDT-ZGel89Y",
        "colab": {
          "base_uri": "https://localhost:8080/"
        },
        "outputId": "0403fd31-af7a-4249-f612-2cd657963abd"
      },
      "execution_count": null,
      "outputs": [
        {
          "output_type": "stream",
          "name": "stdout",
          "text": [
            "[3, 'abc', 'g', 'h']\n",
            "['g', 'h']\n",
            "['h']\n",
            "[]\n"
          ]
        }
      ]
    },
    {
      "cell_type": "markdown",
      "source": [
        "\n",
        "\n",
        "*   값을 이용한 요소 삭제\n",
        "\n"
      ],
      "metadata": {
        "id": "yNco1stdmd47"
      }
    },
    {
      "cell_type": "code",
      "source": [
        "lst4 = [1, 3, 5, 7, 9, 7, 5, 3, 1]\n",
        "\n",
        "lst4.remove(5)  # lst4[2]를 삭제함\n",
        "print(lst4)\n",
        "\n",
        "lst4.remove(3)  # lst4[1]를 삭제함\n",
        "print(lst4)\n",
        "\n",
        "lst4.remove(3)  # lst4[5]를 삭제함\n",
        "print(lst4)\n"
      ],
      "metadata": {
        "id": "8RWF6APYmILr",
        "colab": {
          "base_uri": "https://localhost:8080/"
        },
        "outputId": "66a38c88-7f8a-406a-9e31-807fb6bab742"
      },
      "execution_count": null,
      "outputs": [
        {
          "output_type": "stream",
          "name": "stdout",
          "text": [
            "[1, 3, 7, 9, 7, 5, 3, 1]\n",
            "[1, 7, 9, 7, 5, 3, 1]\n",
            "[1, 7, 9, 7, 5, 1]\n"
          ]
        }
      ]
    },
    {
      "cell_type": "markdown",
      "source": [
        "## 리스트에 포함된 요소 값의 개수 세기\n",
        "\n"
      ],
      "metadata": {
        "id": "eSaZl0EOm4B9"
      }
    },
    {
      "cell_type": "code",
      "source": [
        "lst5 = [1, 3, 5, 7, 9, 7, 5, 3, 1]\n",
        "count3 = lst5.count(3)\n",
        "print(count3)\n",
        "\n",
        "count9 = lst5.count(9)\n",
        "print(count9)\n",
        "\n",
        "count0 = lst5.count(0)\n",
        "print(count0)"
      ],
      "metadata": {
        "colab": {
          "base_uri": "https://localhost:8080/"
        },
        "id": "3Fioz3famza5",
        "outputId": "ddc01379-95e7-4eda-c919-e6df7e754266"
      },
      "execution_count": null,
      "outputs": [
        {
          "output_type": "stream",
          "name": "stdout",
          "text": [
            "2\n",
            "1\n",
            "0\n"
          ]
        }
      ]
    },
    {
      "cell_type": "markdown",
      "source": [
        "## 요소를 검색하기"
      ],
      "metadata": {
        "id": "qJYBRi5onvx6"
      }
    },
    {
      "cell_type": "markdown",
      "source": [
        "\n",
        "\n",
        "*   값의 존재 여부 확인\n",
        "\n"
      ],
      "metadata": {
        "id": "XqCjHyRenxsg"
      }
    },
    {
      "cell_type": "code",
      "source": [
        "lst5 = [1, 3, 5, 7, 9, 7, 5, 3, 1]\n",
        "print(1 in lst5)\n",
        "print(10 in lst5)"
      ],
      "metadata": {
        "colab": {
          "base_uri": "https://localhost:8080/"
        },
        "id": "WywAiwUtn0SS",
        "outputId": "1be7cb8e-f47f-43cf-895d-54fd478ccf1d"
      },
      "execution_count": null,
      "outputs": [
        {
          "output_type": "stream",
          "name": "stdout",
          "text": [
            "True\n",
            "False\n"
          ]
        }
      ]
    },
    {
      "cell_type": "markdown",
      "source": [
        "\n",
        "\n",
        "*   값의 위치 확인하기\n",
        "\n"
      ],
      "metadata": {
        "id": "OM-k0XH0n8rs"
      }
    },
    {
      "cell_type": "code",
      "source": [
        "lst5 = [1, 3, 5, 7, 9, 7, 5, 3, 1]\n",
        "idx = lst5.index(7)  # 첫 번째 7의 인덱스 반환\n",
        "print(idx)"
      ],
      "metadata": {
        "colab": {
          "base_uri": "https://localhost:8080/"
        },
        "id": "Kl_MfSLpnuOx",
        "outputId": "99fd9c38-7c26-4f3c-afb5-61d791892551"
      },
      "execution_count": null,
      "outputs": [
        {
          "output_type": "stream",
          "name": "stdout",
          "text": [
            "3\n"
          ]
        }
      ]
    },
    {
      "cell_type": "code",
      "source": [
        "lst5.index(10)"
      ],
      "metadata": {
        "colab": {
          "base_uri": "https://localhost:8080/",
          "height": 181
        },
        "id": "TV4P5FaGoHgj",
        "outputId": "4aaf1df9-145e-4494-cde2-894824524805"
      },
      "execution_count": null,
      "outputs": [
        {
          "output_type": "error",
          "ename": "ValueError",
          "evalue": "ignored",
          "traceback": [
            "\u001b[0;31m---------------------------------------------------------------------------\u001b[0m",
            "\u001b[0;31mValueError\u001b[0m                                Traceback (most recent call last)",
            "\u001b[0;32m<ipython-input-41-031226fae816>\u001b[0m in \u001b[0;36m<cell line: 1>\u001b[0;34m()\u001b[0m\n\u001b[0;32m----> 1\u001b[0;31m \u001b[0mlst5\u001b[0m\u001b[0;34m.\u001b[0m\u001b[0mindex\u001b[0m\u001b[0;34m(\u001b[0m\u001b[0;36m10\u001b[0m\u001b[0;34m)\u001b[0m\u001b[0;34m\u001b[0m\u001b[0;34m\u001b[0m\u001b[0m\n\u001b[0m",
            "\u001b[0;31mValueError\u001b[0m: 10 is not in list"
          ]
        }
      ]
    },
    {
      "cell_type": "code",
      "source": [
        "if 10 in lst5:\n",
        "  idx = lst5.index(10)\n",
        "  print(idx)"
      ],
      "metadata": {
        "id": "-da9E0RwoJ3-"
      },
      "execution_count": null,
      "outputs": []
    },
    {
      "cell_type": "code",
      "source": [
        "if lst5.count(10) > 0:\n",
        "  idx = lst5.index(10)\n",
        "  print(idx)"
      ],
      "metadata": {
        "id": "PBTwdiTroOxq"
      },
      "execution_count": null,
      "outputs": []
    },
    {
      "cell_type": "markdown",
      "source": [
        "## 요소 삽입"
      ],
      "metadata": {
        "id": "6UyHnEOmoYib"
      }
    },
    {
      "cell_type": "code",
      "source": [
        "lst6 = [1, 3, 5]\n",
        "lst6.insert(1, 7)          # 인덱스 1에 7 삽입\n",
        "print(lst6)\n",
        "\n",
        "lst6.insert(-1, 9)         # 인덱스 -1에 9를 삽입하고 5를 오른쪽으로 밀어냄\n",
        "print(lst6)\n",
        "\n",
        "lst6.insert(-len(lst6), 0) # 인덱스 0에 0을 삽입\n",
        "print(lst6)\n",
        "\n",
        "lst6.insert(-10, -5)       # 법위 왼쪽 밖에 -5를 삽입(첫 부분에 삽입)\n",
        "print(lst6)\n",
        "\n",
        "lst6.insert(10, 13)        # 범위 오른쪽 밖에 9를 삽입(마지막에 추가)\n",
        "print(lst6)"
      ],
      "metadata": {
        "colab": {
          "base_uri": "https://localhost:8080/"
        },
        "id": "amJnEHf8oVdB",
        "outputId": "67aae868-db75-42f8-e251-94dd528422e4"
      },
      "execution_count": null,
      "outputs": [
        {
          "output_type": "stream",
          "name": "stdout",
          "text": [
            "[1, 7, 3, 5]\n",
            "[1, 7, 3, 9, 5]\n",
            "[0, 1, 7, 3, 9, 5]\n",
            "[-5, 0, 1, 7, 3, 9, 5]\n",
            "[-5, 0, 1, 7, 3, 9, 5, 13]\n"
          ]
        }
      ]
    },
    {
      "cell_type": "markdown",
      "source": [
        "## 요소 정렬"
      ],
      "metadata": {
        "id": "ImlcBcxZpGBE"
      }
    },
    {
      "cell_type": "code",
      "source": [
        "lst7 = [1, 7, 5, 4, 3]\n",
        "lst7.sort()               # 오름차순으로 정렬\n",
        "print(lst7)\n",
        "\n",
        "lst7.sort(reverse = True) # 내림차순으로 정렬\n",
        "print(lst7)"
      ],
      "metadata": {
        "colab": {
          "base_uri": "https://localhost:8080/"
        },
        "id": "9tiAgaNApBRk",
        "outputId": "c643d671-74e9-402d-8b26-94a5f3fbdab3"
      },
      "execution_count": null,
      "outputs": [
        {
          "output_type": "stream",
          "name": "stdout",
          "text": [
            "[1, 3, 4, 5, 7]\n",
            "[7, 5, 4, 3, 1]\n"
          ]
        }
      ]
    },
    {
      "cell_type": "code",
      "source": [
        "lst8 = [1, 7, 5, 4, 3, \"abc\"]\n",
        "lst8.sort()"
      ],
      "metadata": {
        "colab": {
          "base_uri": "https://localhost:8080/",
          "height": 199
        },
        "id": "I70EfxLjpX7p",
        "outputId": "91155798-5204-4b91-cb50-449d93163cae"
      },
      "execution_count": null,
      "outputs": [
        {
          "output_type": "error",
          "ename": "TypeError",
          "evalue": "ignored",
          "traceback": [
            "\u001b[0;31m---------------------------------------------------------------------------\u001b[0m",
            "\u001b[0;31mTypeError\u001b[0m                                 Traceback (most recent call last)",
            "\u001b[0;32m<ipython-input-46-e1152cdae29f>\u001b[0m in \u001b[0;36m<cell line: 2>\u001b[0;34m()\u001b[0m\n\u001b[1;32m      1\u001b[0m \u001b[0mlst8\u001b[0m \u001b[0;34m=\u001b[0m \u001b[0;34m[\u001b[0m\u001b[0;36m1\u001b[0m\u001b[0;34m,\u001b[0m \u001b[0;36m7\u001b[0m\u001b[0;34m,\u001b[0m \u001b[0;36m5\u001b[0m\u001b[0;34m,\u001b[0m \u001b[0;36m4\u001b[0m\u001b[0;34m,\u001b[0m \u001b[0;36m3\u001b[0m\u001b[0;34m,\u001b[0m \u001b[0;34m\"abc\"\u001b[0m\u001b[0;34m]\u001b[0m\u001b[0;34m\u001b[0m\u001b[0;34m\u001b[0m\u001b[0m\n\u001b[0;32m----> 2\u001b[0;31m \u001b[0mlst8\u001b[0m\u001b[0;34m.\u001b[0m\u001b[0msort\u001b[0m\u001b[0;34m(\u001b[0m\u001b[0;34m)\u001b[0m\u001b[0;34m\u001b[0m\u001b[0;34m\u001b[0m\u001b[0m\n\u001b[0m",
            "\u001b[0;31mTypeError\u001b[0m: '<' not supported between instances of 'str' and 'int'"
          ]
        }
      ]
    },
    {
      "cell_type": "markdown",
      "source": [
        "## 요소 순서 뒤집기"
      ],
      "metadata": {
        "id": "cyuQbXw3pf1T"
      }
    },
    {
      "cell_type": "code",
      "source": [
        "lst9 = [1, 7, 5, 4, 3]\n",
        "lst9.reverse()\n",
        "print(lst9)"
      ],
      "metadata": {
        "colab": {
          "base_uri": "https://localhost:8080/"
        },
        "id": "1xcVRFo1pemR",
        "outputId": "0eeccebc-7683-472c-9db8-651342f7c8a3"
      },
      "execution_count": null,
      "outputs": [
        {
          "output_type": "stream",
          "name": "stdout",
          "text": [
            "[3, 4, 5, 7, 1]\n"
          ]
        }
      ]
    },
    {
      "cell_type": "markdown",
      "source": [
        "## 문자열을 잘라서 리스트 생성하기"
      ],
      "metadata": {
        "id": "aSrTK6Vrpmav"
      }
    },
    {
      "cell_type": "markdown",
      "source": [
        "\n",
        "\n",
        "*   문자열.split(구분문자)\n",
        "\n"
      ],
      "metadata": {
        "id": "an710N-1ppBo"
      }
    },
    {
      "cell_type": "code",
      "source": [
        "lst = \"what a beautiful \\tday\".split(\" \")\n",
        "print(lst)\n",
        "\n",
        "lst = \"what a beautiful \\tday\".split(\"\\t\")\n",
        "print(lst)"
      ],
      "metadata": {
        "colab": {
          "base_uri": "https://localhost:8080/"
        },
        "id": "51ut6Goup6NC",
        "outputId": "491038fa-bbc0-4bd0-935b-eb509142c509"
      },
      "execution_count": null,
      "outputs": [
        {
          "output_type": "stream",
          "name": "stdout",
          "text": [
            "['what', 'a', 'beautiful', '\\tday']\n",
            "['what a beautiful ', 'day']\n"
          ]
        }
      ]
    },
    {
      "cell_type": "markdown",
      "source": [
        "*   문자열.split(구분문자, 횟수)"
      ],
      "metadata": {
        "id": "a8qnZszyps1C"
      }
    },
    {
      "cell_type": "code",
      "source": [
        "lst = \"what a beautiful \\tday\".split(\" \", 2)\n",
        "print(lst)"
      ],
      "metadata": {
        "colab": {
          "base_uri": "https://localhost:8080/"
        },
        "id": "EDr09kHgp6iY",
        "outputId": "3be68b7e-4933-4160-d1e3-6939e4c6efda"
      },
      "execution_count": null,
      "outputs": [
        {
          "output_type": "stream",
          "name": "stdout",
          "text": [
            "['what', 'a', 'beautiful \\tday']\n"
          ]
        }
      ]
    },
    {
      "cell_type": "markdown",
      "source": [
        "*   문자열.split()"
      ],
      "metadata": {
        "id": "r-HhS2-Eps3G"
      }
    },
    {
      "cell_type": "code",
      "source": [
        "lst = \"Python is a easy to learn programming language\".split()\n",
        "print(lst)\n",
        "\n",
        "lst = \"    Python \\tis a easy to\\tlearn\\t\\t\\t\\nprogramming language\\n\".split()\n",
        "print(lst)"
      ],
      "metadata": {
        "colab": {
          "base_uri": "https://localhost:8080/"
        },
        "id": "atH8Ov06p66_",
        "outputId": "d669c5a7-d611-4641-e471-9120dc87f593"
      },
      "execution_count": null,
      "outputs": [
        {
          "output_type": "stream",
          "name": "stdout",
          "text": [
            "['Python', 'is', 'a', 'easy', 'to', 'learn', 'programming', 'language']\n",
            "['Python', 'is', 'a', 'easy', 'to', 'learn', 'programming', 'language']\n"
          ]
        }
      ]
    },
    {
      "cell_type": "markdown",
      "source": [
        "*   문자열.split(maxsplit=횟수)"
      ],
      "metadata": {
        "id": "-UhRAlTzps5a"
      }
    },
    {
      "cell_type": "code",
      "source": [
        "lst = \"    Python \\tis a easy to\\tlearn\\t\\t\\t\\nprogramming language\\n\".split(maxsplit=2)\n",
        "print(lst)"
      ],
      "metadata": {
        "colab": {
          "base_uri": "https://localhost:8080/"
        },
        "id": "LTGMbXWJplbz",
        "outputId": "c6c942a7-5b90-49b5-c1e0-9bed6fe1b454"
      },
      "execution_count": null,
      "outputs": [
        {
          "output_type": "stream",
          "name": "stdout",
          "text": [
            "['Python', 'is', 'a easy to\\tlearn\\t\\t\\t\\nprogramming language\\n']\n"
          ]
        }
      ]
    },
    {
      "cell_type": "markdown",
      "source": [
        "## 문자열.rsplit() 함수"
      ],
      "metadata": {
        "id": "V_N9A6BLrh2z"
      }
    },
    {
      "cell_type": "markdown",
      "source": [
        "\n",
        "\n",
        "\n",
        "*   문자열.rsplit(구분문자, 횟수)\n",
        "\n"
      ],
      "metadata": {
        "id": "NJpQA8FBrnnm"
      }
    },
    {
      "cell_type": "code",
      "source": [
        "lst = \"what a beautiful \\tday\".rsplit(\" \", 2)\n",
        "print(lst)"
      ],
      "metadata": {
        "colab": {
          "base_uri": "https://localhost:8080/"
        },
        "id": "3SQa3fvGr8mR",
        "outputId": "ed86d4cb-1f3d-42a1-e23b-bcf0ceeb98ee"
      },
      "execution_count": null,
      "outputs": [
        {
          "output_type": "stream",
          "name": "stdout",
          "text": [
            "['what a', 'beautiful', '\\tday']\n"
          ]
        }
      ]
    },
    {
      "cell_type": "markdown",
      "source": [
        "*   문자열.rsplit(maxsplit=횟수)"
      ],
      "metadata": {
        "id": "HzpP2KCnrnkf"
      }
    },
    {
      "cell_type": "code",
      "source": [
        "lst = \"    Python \\tis a easy to\\tlearn\\t\\t\\t\\nprogramming language\\n\".rsplit(maxsplit=2)\n",
        "print(lst)"
      ],
      "metadata": {
        "colab": {
          "base_uri": "https://localhost:8080/"
        },
        "id": "3S_c3sUfrfQP",
        "outputId": "29b01d0d-bcc7-46f4-8133-77a7337d5079"
      },
      "execution_count": null,
      "outputs": [
        {
          "output_type": "stream",
          "name": "stdout",
          "text": [
            "['    Python \\tis a easy to\\tlearn', 'programming', 'language']\n"
          ]
        }
      ]
    },
    {
      "cell_type": "code",
      "source": [],
      "metadata": {
        "id": "X104J8QAyxy1"
      },
      "execution_count": null,
      "outputs": []
    },
    {
      "cell_type": "markdown",
      "source": [
        "*   실습문제1: 함수의 인자로 정수 한 개를 전달받는다. 인자로 전달된 정수 n개만큼 사용자로부터 정수를 입력받고, 이를 요소로 리스트를 구성한 후 함수의 결과값으로 반환한다. 함수를 이용해서 5개의 정수값으로 구성된 리스트를 생성하고 화면에 출력하는 프로그램을 작성한다.\n",
        "\n",
        "\n",
        "*   요구사항:\n",
        "- 사용자로부터 입력받을 정수의 개수는 함수에 인자로 전달한다.\n",
        "- 사용자는 정수만을 입력한다고 가정한다.\n",
        "- 함수를 검수할 때 입력받아서 리스트로 만들 정수는 5개다.\n"
      ],
      "metadata": {
        "id": "6wYh1zU9skJH"
      }
    },
    {
      "cell_type": "code",
      "source": [
        "def createListFromInput(n):\n",
        "  lst = []\n",
        "  for i in range(n):\n",
        "    num = int(input(\"정수를 입력하세요: \"))\n",
        "    lst.append(num)\n",
        "\n",
        "  return lst\n",
        "\n",
        "lst1 = createListFromInput(5)\n",
        "print(lst1)\n",
        "\n",
        "for n in lst1:\n",
        "  print(n)"
      ],
      "metadata": {
        "colab": {
          "base_uri": "https://localhost:8080/"
        },
        "id": "hivEH5vEwP7A",
        "outputId": "67e8348b-6f00-4785-b194-a2bb640990cc"
      },
      "execution_count": null,
      "outputs": [
        {
          "output_type": "stream",
          "name": "stdout",
          "text": [
            "정수를 입력하세요: 10\n",
            "정수를 입력하세요: 5\n",
            "정수를 입력하세요: 8\n",
            "정수를 입력하세요: 9\n",
            "정수를 입력하세요: 4\n",
            "[10, 5, 8, 9, 4]\n",
            "10\n",
            "5\n",
            "8\n",
            "9\n",
            "4\n"
          ]
        }
      ]
    },
    {
      "cell_type": "markdown",
      "source": [
        "*   실습문제2: 인자로 전달받은 정수의 모든 약수를 리스트로 구성해서 반환하는 함수 (createDivisionList)를 구현한다. 사용자로부터 1000 이하의 정수 중에서 한 개를 입력받고, 약수의 리스트를 만드는 함수를 이용해서 약수 리스트를 생성한다. 약수 리스트에 있는 모든 요소의 합을 계산해서 화면에 출력하는 프로그램을 작성한다.\n",
        "\n",
        "\n",
        "*   요구사항:\n",
        "- 사용자는 1000 이하의 정수를 입력할 것이라고 가정한다.\n",
        "- 약수 리스트가 제대로 만들어졌는지 확인할 수 있도록 createDivisorsList() 함수를 호출하는 코드에서 리스트의 내용을 화면에 출력한다."
      ],
      "metadata": {
        "id": "EThSIUD4spv7"
      }
    },
    {
      "cell_type": "code",
      "source": [
        "def createDivisorList(n):\n",
        "  lst = []\n",
        "  for i in range(1, n + 1):\n",
        "    if n % i == 0:\n",
        "      lst.append(i)\n",
        "\n",
        "  return lst\n",
        "\n",
        "# 사용자로부터 정수 입력받기\n",
        "n = int(input(\"1000이하의 정수 한 개를 입력하세요: \"))\n",
        "# 약수 리스트 생성\n",
        "lst = createDivisorList(n)\n",
        "print(lst)                                             #약수 리스트 확인을 위해 화면에 출력\n",
        "\n",
        "# 약수의 합 구하기\n",
        "sum = 0\n",
        "for i in lst:\n",
        "  sum += i\n",
        "print(f\"약수들의 총 합: {sum}\") # 합계 출력"
      ],
      "metadata": {
        "colab": {
          "base_uri": "https://localhost:8080/"
        },
        "id": "yg9o2721xEgU",
        "outputId": "00f1a362-8470-4278-afdd-a8da4165aa4b"
      },
      "execution_count": null,
      "outputs": [
        {
          "output_type": "stream",
          "name": "stdout",
          "text": [
            "1000이하의 정수 한 개를 입력하세요: 50\n",
            "[1, 2, 5, 10, 25, 50]\n",
            "약수들의 총 합: 93\n"
          ]
        }
      ]
    },
    {
      "cell_type": "markdown",
      "source": [
        "# Reference: 본 코드는 길벗 출판사의 \"파이썬의 정석\" 책의 코드를 수업형식에 맞게 응용한 코드입니다."
      ],
      "metadata": {
        "id": "2zixc29Xsamh"
      }
    }
  ]
}