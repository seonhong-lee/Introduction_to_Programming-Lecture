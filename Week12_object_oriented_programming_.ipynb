{
  "nbformat": 4,
  "nbformat_minor": 0,
  "metadata": {
    "colab": {
      "provenance": []
    },
    "kernelspec": {
      "name": "python3",
      "display_name": "Python 3"
    },
    "language_info": {
      "name": "python"
    }
  },
  "cells": [
    {
      "cell_type": "markdown",
      "source": [
        "## 절차적 프로그래밍"
      ],
      "metadata": {
        "id": "kUKi3OVjlWrJ"
      }
    },
    {
      "cell_type": "markdown",
      "source": [
        "## 비구조적 프로그래밍"
      ],
      "metadata": {
        "id": "Hb5JXx01lXk4"
      }
    },
    {
      "cell_type": "markdown",
      "source": [
        "# 절차적 프로그래밍"
      ],
      "metadata": {
        "id": "AcmANY_3lXmy"
      }
    },
    {
      "cell_type": "markdown",
      "source": [
        "## 절차적 프로그래밍의 문제점"
      ],
      "metadata": {
        "id": "8JQAhqGJlYLg"
      }
    },
    {
      "cell_type": "code",
      "source": [
        "phone1 = [\"kil Dong Hong\", \"010-1111-1111\", 80]\n",
        "phone2 = [\"Dongsu Hong\", \"010-2222-2222\", 60]"
      ],
      "metadata": {
        "id": "QHFET0WeliPV"
      },
      "execution_count": 1,
      "outputs": []
    },
    {
      "cell_type": "code",
      "source": [
        "def hwCall(phone, phoneNum):\n",
        "  print(\"하드웨어를 제어해서 전화를 겁니다\")\n",
        "\n",
        "def call(phone, phoneNum):\n",
        "  if phone[2] >= 10:\n",
        "    print(f\"{phone[1]}에서 {phoneNum}으로 전화를 겁니다\")\n",
        "    hwCall(phone, phoneNum)\n",
        "  else:\n",
        "    print(\"베터리가 부족합니다\")\n",
        "\n",
        "call(phone1, \"010-3333-3333\")"
      ],
      "metadata": {
        "colab": {
          "base_uri": "https://localhost:8080/"
        },
        "id": "-Zb5di-TmMcZ",
        "outputId": "de8e3397-2989-430a-ae53-c537b9ecf670"
      },
      "execution_count": 2,
      "outputs": [
        {
          "output_type": "stream",
          "name": "stdout",
          "text": [
            "010-1111-1111에서 010-3333-3333으로 전화를 겁니다\n",
            "하드웨어를 제어해서 전화를 겁니다\n"
          ]
        }
      ]
    },
    {
      "cell_type": "code",
      "source": [
        "def getBetteryStatus(phone):\n",
        "  return phone[2]\n",
        "\n",
        "print(getBetteryStatus(phone1))\n",
        "print(getBetteryStatus(phone2))"
      ],
      "metadata": {
        "colab": {
          "base_uri": "https://localhost:8080/"
        },
        "id": "vrpOGVH3mlhz",
        "outputId": "acb093f9-1f20-4c31-b122-0fb9f7da9181"
      },
      "execution_count": 3,
      "outputs": [
        {
          "output_type": "stream",
          "name": "stdout",
          "text": [
            "80\n",
            "60\n"
          ]
        }
      ]
    },
    {
      "cell_type": "markdown",
      "source": [
        "## 객체 지향 프로그래밍"
      ],
      "metadata": {
        "id": "cN3SnleJjluG"
      }
    },
    {
      "cell_type": "markdown",
      "source": [
        "## 객체 지향 프로그래밍이란?"
      ],
      "metadata": {
        "id": "GwZpt-4WjoLE"
      }
    },
    {
      "cell_type": "markdown",
      "source": [
        "## 객체와 클래스"
      ],
      "metadata": {
        "id": "3Cvd8qkYjrGH"
      }
    },
    {
      "cell_type": "markdown",
      "source": [
        "\n",
        "\n",
        "*   자동차 사례로 설명하는 객체와 클래스\n"
      ],
      "metadata": {
        "id": "kudnOAWnjtme"
      }
    },
    {
      "cell_type": "markdown",
      "source": [
        "## 클래스 = 속성(변수) + 기능(함수) + 인터페이스"
      ],
      "metadata": {
        "id": "CzYuFVg7jyfd"
      }
    },
    {
      "cell_type": "markdown",
      "source": [
        "## 파이썬의 자료형은 클래스"
      ],
      "metadata": {
        "id": "LGENWC2Lj7rl"
      }
    },
    {
      "cell_type": "code",
      "execution_count": 4,
      "metadata": {
        "id": "PJ-9bMK_g957",
        "colab": {
          "base_uri": "https://localhost:8080/"
        },
        "outputId": "a8584b95-1384-4b39-d434-15e4bc2979c1"
      },
      "outputs": [
        {
          "output_type": "stream",
          "name": "stdout",
          "text": [
            "<class 'str'>\n",
            "<class 'int'>\n",
            "<class 'list'>\n",
            "<class 'dict'>\n"
          ]
        }
      ],
      "source": [
        "print(type(\"문자열\"))\n",
        "print(type(3))\n",
        "print(type([]))   # 빈 리스트의 자료형 확인\n",
        "print(type({}))   # 빈 딕셔너리의 자료형 확인"
      ]
    },
    {
      "cell_type": "code",
      "source": [
        "s = \"문자열\"\n",
        "print(type(s))\n",
        "\n",
        "lst = []\n",
        "print(type(lst))"
      ],
      "metadata": {
        "colab": {
          "base_uri": "https://localhost:8080/"
        },
        "id": "motkZSadm9bC",
        "outputId": "6f348837-a9e8-484b-c712-7961d6c69b46"
      },
      "execution_count": 5,
      "outputs": [
        {
          "output_type": "stream",
          "name": "stdout",
          "text": [
            "<class 'str'>\n",
            "<class 'list'>\n"
          ]
        }
      ]
    },
    {
      "cell_type": "code",
      "source": [
        "s = 3\n",
        "print(type(s))"
      ],
      "metadata": {
        "colab": {
          "base_uri": "https://localhost:8080/"
        },
        "id": "ZGsBUbtBnCvO",
        "outputId": "0ab4e67e-4661-4e8c-def6-30f78f54dd0e"
      },
      "execution_count": 6,
      "outputs": [
        {
          "output_type": "stream",
          "name": "stdout",
          "text": [
            "<class 'int'>\n"
          ]
        }
      ]
    },
    {
      "cell_type": "markdown",
      "source": [
        "## 객체 지향 프로그래밍의 특성"
      ],
      "metadata": {
        "id": "IX-cizCmkOOX"
      }
    },
    {
      "cell_type": "markdown",
      "source": [
        "## 추상화"
      ],
      "metadata": {
        "id": "_w2Kn7gbkRZx"
      }
    },
    {
      "cell_type": "markdown",
      "source": [
        "## 캡슐화"
      ],
      "metadata": {
        "id": "gU4CF3fOkTCz"
      }
    },
    {
      "cell_type": "markdown",
      "source": [
        "## 재사용성"
      ],
      "metadata": {
        "id": "6UjvL4nkkTGr"
      }
    },
    {
      "cell_type": "markdown",
      "source": [
        "## 상속"
      ],
      "metadata": {
        "id": "id2v_Od7kilN"
      }
    },
    {
      "cell_type": "markdown",
      "source": [
        "\n",
        "\n",
        "*   휴대폰 클래스와 상속\n",
        "\n"
      ],
      "metadata": {
        "id": "AX_BpXjhkkp0"
      }
    },
    {
      "cell_type": "code",
      "source": [
        "def call():\n",
        "  # 상대방 전화번호를 입력받고 문자열 phoneNum에 저장\n",
        "  # 객체 휴대폰 번호(number변수)에서 phoneNum으로 전화 건다는 문구 출력\n",
        "  hwCall(phoneNum)  # 실제 하드웨어를 이용해서 전화 거는 함수 호출"
      ],
      "metadata": {
        "id": "Do4_i50onJzZ"
      },
      "execution_count": 7,
      "outputs": []
    },
    {
      "cell_type": "markdown",
      "source": [
        "## 다형성"
      ],
      "metadata": {
        "id": "4SiBcfaxkpAB"
      }
    },
    {
      "cell_type": "code",
      "source": [
        "def makeAPhoneCall(smartPhone):\n",
        "  smartPhone.call(phoneNume)"
      ],
      "metadata": {
        "id": "NHhbI5ucktos"
      },
      "execution_count": 8,
      "outputs": []
    },
    {
      "cell_type": "code",
      "source": [
        "def call():\n",
        "  phoneNum = input(\"전화번호를 숫자로만 입력하세요: \")\n",
        "  print(f\"{number}에서 {phoneNum}으로 전화를 겁니다\")\n",
        "  hwCall(phoneNum)"
      ],
      "metadata": {
        "id": "CtlgI6mansQz"
      },
      "execution_count": 9,
      "outputs": []
    },
    {
      "cell_type": "code",
      "source": [
        "makeAPhoneCall(fourGPhone) # FourGSmartPhone 객체를 전달\n",
        "makeAPhoneCall(fiveGPhone) # FiveGSmartPhone 객체를 전달"
      ],
      "metadata": {
        "id": "9QhYY7UgnsSv",
        "colab": {
          "base_uri": "https://localhost:8080/",
          "height": 204
        },
        "outputId": "f720b7a8-e356-4edb-fdfb-d7b23fb43755"
      },
      "execution_count": 10,
      "outputs": [
        {
          "output_type": "error",
          "ename": "NameError",
          "evalue": "ignored",
          "traceback": [
            "\u001b[0;31m---------------------------------------------------------------------------\u001b[0m",
            "\u001b[0;31mNameError\u001b[0m                                 Traceback (most recent call last)",
            "\u001b[0;32m<ipython-input-10-669d9a22a90d>\u001b[0m in \u001b[0;36m<cell line: 1>\u001b[0;34m()\u001b[0m\n\u001b[0;32m----> 1\u001b[0;31m \u001b[0mmakeAPhoneCall\u001b[0m\u001b[0;34m(\u001b[0m\u001b[0mfourGPhone\u001b[0m\u001b[0;34m)\u001b[0m \u001b[0;31m# FourGSmartPhone 객체를 전달\u001b[0m\u001b[0;34m\u001b[0m\u001b[0;34m\u001b[0m\u001b[0m\n\u001b[0m\u001b[1;32m      2\u001b[0m \u001b[0mmakeAPhoneCall\u001b[0m\u001b[0;34m(\u001b[0m\u001b[0mfiveGPhone\u001b[0m\u001b[0;34m)\u001b[0m \u001b[0;31m# FiveGSmartPhone 객체를 전달\u001b[0m\u001b[0;34m\u001b[0m\u001b[0;34m\u001b[0m\u001b[0m\n",
            "\u001b[0;31mNameError\u001b[0m: name 'fourGPhone' is not defined"
          ]
        }
      ]
    },
    {
      "cell_type": "code",
      "source": [],
      "metadata": {
        "id": "Lo41pbVQnsdr"
      },
      "execution_count": null,
      "outputs": []
    },
    {
      "cell_type": "markdown",
      "source": [
        "## 파이썬 클래스 구현 및 사용"
      ],
      "metadata": {
        "id": "LbkrwBCTktw6"
      }
    },
    {
      "cell_type": "markdown",
      "source": [
        "## 클래스 선언 방법과 생성자"
      ],
      "metadata": {
        "id": "HtIa9nG8kzCV"
      }
    },
    {
      "cell_type": "code",
      "source": [
        "class SmartPhone:\n",
        "  def call(self, phoneNum):\n",
        "    print(f\"call(): {phoneNum}\")\n",
        "\n",
        "  def hwCall(self, phoneNum):\n",
        "    print(f\"hwCall(): {phoneNum}\")\n",
        "\n",
        "  def getBetteryStatus(self):\n",
        "    print(\"getBetteryStatus\")"
      ],
      "metadata": {
        "id": "yi0KU9T4oMtg"
      },
      "execution_count": 11,
      "outputs": []
    },
    {
      "cell_type": "markdown",
      "source": [
        "## 객체 생성"
      ],
      "metadata": {
        "id": "pfVLtqxSk3o1"
      }
    },
    {
      "cell_type": "code",
      "source": [
        "phone1 = SmartPhone() # 객체 생성 후 phone1이라는 이름표를 붙임\n",
        "phone1.call(\"010-1111-1111\")"
      ],
      "metadata": {
        "id": "V6oW8UAQk6TO",
        "colab": {
          "base_uri": "https://localhost:8080/"
        },
        "outputId": "d2f0d6aa-2ebb-4a5e-87b2-fd0ee379ab5b"
      },
      "execution_count": 12,
      "outputs": [
        {
          "output_type": "stream",
          "name": "stdout",
          "text": [
            "call(): 010-1111-1111\n"
          ]
        }
      ]
    },
    {
      "cell_type": "markdown",
      "source": [
        "## 객체 함수 호출"
      ],
      "metadata": {
        "id": "gtoNp6sUk6d2"
      }
    },
    {
      "cell_type": "code",
      "source": [
        "class SmartPhone:\n",
        "  def call(self, phoneNum):\n",
        "    print(f\"call(): {phoneNum}\")\n",
        "\n",
        "  def hwCall(self, phoneNum):\n",
        "    print(f\"hwCall(): {phoneNum}\")\n",
        "\n",
        "  def getBetteryStatus(self):\n",
        "    print(\"getBetteryStatus\")\n",
        "\n",
        "phone1 = SmartPhone()          # 객체 생성 후 phone1이라는 이름표를 붙임\n",
        "phone2 = SmartPhone()          # 객체 생성 후 phone2이라는 이름표를 붙임\n",
        "phone1.call(\"010-1111-1111\")   # 첫 번째 인자는 생략하고 두 번째 인자만 전달\n",
        "phone1.getBetteryStatus()      # 첫 번째 인자 생략\n",
        "phone2.call(\"010-2222-2222\")   # 첫 번째 인자는 생략하고 두 번째 인자만 전달\n",
        "phone2.getBetteryStatus()      # 첫 번째 인자 생략"
      ],
      "metadata": {
        "colab": {
          "base_uri": "https://localhost:8080/"
        },
        "id": "megMPSB8lBU_",
        "outputId": "80f7c929-25f2-4213-af4d-ffdc0dcca114"
      },
      "execution_count": 13,
      "outputs": [
        {
          "output_type": "stream",
          "name": "stdout",
          "text": [
            "call(): 010-1111-1111\n",
            "getBetteryStatus\n",
            "call(): 010-2222-2222\n",
            "getBetteryStatus\n"
          ]
        }
      ]
    },
    {
      "cell_type": "markdown",
      "source": [
        "## 멤버 함수의 첫 번째 매개변수: self 변수"
      ],
      "metadata": {
        "id": "lIUoeGh_WkF0"
      }
    },
    {
      "cell_type": "markdown",
      "source": [
        "\n",
        "\n",
        "*   멤버 함수의 첫 번째 매개변수\n",
        "\n"
      ],
      "metadata": {
        "id": "iQdU1v40Wn76"
      }
    },
    {
      "cell_type": "markdown",
      "source": [
        "\n",
        "\n",
        "*   클래스의 멤버 함수를 호출할 때 첫 번째 인자는 생략\n",
        "\n"
      ],
      "metadata": {
        "id": "The_RfW2Wr_z"
      }
    },
    {
      "cell_type": "markdown",
      "source": [
        "## 멤버 변수 생성 및 사용"
      ],
      "metadata": {
        "id": "TnEV2g6hWxmM"
      }
    },
    {
      "cell_type": "markdown",
      "source": [
        "## 생성자"
      ],
      "metadata": {
        "id": "erCeTYYwW1Cu"
      }
    },
    {
      "cell_type": "code",
      "source": [
        "class SmartPhone:\n",
        "  def __init__(self, name, phoneNum, battery):\n",
        "    self.owner = name\n",
        "    self.number = phoneNum\n",
        "    self.battery = battery"
      ],
      "metadata": {
        "id": "cfFGcAtOW18p"
      },
      "execution_count": 14,
      "outputs": []
    },
    {
      "cell_type": "code",
      "source": [
        "class SmartPhone:\n",
        "  def __init__(self, name, phoneNum, battery):\n",
        "    self.owner = name\n",
        "    self.number = phoneNum\n",
        "    self.battery = battery\n",
        "    self.__privateInt = 30\n",
        "\n",
        "  def printMemberVariables(self):\n",
        "    print(f\"owner = {self.owner}, phone number = {self.number}, battery = {self.battery}, privateInt = {self.__privateInt}\")\n",
        "\n",
        "sp1 = SmartPhone(\"Cho\", \"010-1111-1111\", 80) # 함수 호출하듯이 인자 전달\n",
        "sp2 = SmartPhone(\"Lim\", \"010-2222-2222\", 70)\n",
        "sp1.printMemberVariables()\n",
        "sp2.printMemberVariables()"
      ],
      "metadata": {
        "colab": {
          "base_uri": "https://localhost:8080/"
        },
        "id": "60gAfrEOq4dp",
        "outputId": "46960cfe-941e-4ecc-866b-f03e3a399c1c"
      },
      "execution_count": 15,
      "outputs": [
        {
          "output_type": "stream",
          "name": "stdout",
          "text": [
            "owner = Cho, phone number = 010-1111-1111, battery = 80, privateInt = 30\n",
            "owner = Lim, phone number = 010-2222-2222, battery = 70, privateInt = 30\n"
          ]
        }
      ]
    },
    {
      "cell_type": "code",
      "source": [
        "print(f\"owner = {sp1.owner}, phone number = {sp1.number}, battery = {sp1.battery}\")\n",
        "print(f\"owner = {sp2.owner}, phone number = {sp2.number}, battery = {sp2.battery}\")"
      ],
      "metadata": {
        "colab": {
          "base_uri": "https://localhost:8080/"
        },
        "id": "3KHJPyqNrs-5",
        "outputId": "f73fdf4f-da1b-4e00-8b37-2b4eb7857629"
      },
      "execution_count": 16,
      "outputs": [
        {
          "output_type": "stream",
          "name": "stdout",
          "text": [
            "owner = Cho, phone number = 010-1111-1111, battery = 80\n",
            "owner = Lim, phone number = 010-2222-2222, battery = 70\n"
          ]
        }
      ]
    },
    {
      "cell_type": "code",
      "source": [
        "print(f\"__privateInt = {sp1.__privateInt}\")"
      ],
      "metadata": {
        "colab": {
          "base_uri": "https://localhost:8080/",
          "height": 186
        },
        "id": "NnFAJdHjsAJl",
        "outputId": "7934067a-0035-44cd-aadc-211538998bf2"
      },
      "execution_count": 17,
      "outputs": [
        {
          "output_type": "error",
          "ename": "AttributeError",
          "evalue": "ignored",
          "traceback": [
            "\u001b[0;31m---------------------------------------------------------------------------\u001b[0m",
            "\u001b[0;31mAttributeError\u001b[0m                            Traceback (most recent call last)",
            "\u001b[0;32m<ipython-input-17-5de998a9393d>\u001b[0m in \u001b[0;36m<cell line: 1>\u001b[0;34m()\u001b[0m\n\u001b[0;32m----> 1\u001b[0;31m \u001b[0mprint\u001b[0m\u001b[0;34m(\u001b[0m\u001b[0;34mf\"__privateInt = {sp1.__privateInt}\"\u001b[0m\u001b[0;34m)\u001b[0m\u001b[0;34m\u001b[0m\u001b[0;34m\u001b[0m\u001b[0m\n\u001b[0m",
            "\u001b[0;31mAttributeError\u001b[0m: 'SmartPhone' object has no attribute '__privateInt'"
          ]
        }
      ]
    },
    {
      "cell_type": "markdown",
      "source": [
        "## 멤버 함수"
      ],
      "metadata": {
        "id": "ZpIDItSTW2lI"
      }
    },
    {
      "cell_type": "code",
      "source": [
        "class SmartPhone:\n",
        "  def __init__(self, name, phoneNum, battery):\n",
        "    self.owner = name\n",
        "    self.number = phoneNum\n",
        "    self.battery = battery\n",
        "\n",
        "  def call(self, phoneNum):\n",
        "    if self.battery >= 10:\n",
        "      print(f\"{self.number}에서 {phoneNum}으로 전화를 겁니다\")\n",
        "      self._hwCall(phoneNum)\n",
        "    else:\n",
        "      print(\"베터리가 부족합니다\")\n",
        "\n",
        "  def getBetteryStatus(self):\n",
        "    return self.battery\n",
        "\n",
        "  def _hwCall(self, phoneNum):  # protected 멤버 함수로 구현\n",
        "    print(f\"하드웨어를 제어해서 {phoneNum}으로 전화를 겁니다\")\n",
        "\n",
        "sp1 = SmartPhone(\"Cho\", \"010-1111-1111\", 80)\n",
        "sp2 = SmartPhone(\"Lim\", \"010-2222-2222\", 70)\n",
        "\n",
        "sp1.call(\"010-3333-3333\")\n",
        "sp2.call(\"010-4444-4444\")\n",
        "\n",
        "print(f\"sp1의 베터리 충전 상태: {sp1.getBetteryStatus()}\")\n",
        "print(f\"sp2의 베터리 충전 상태: {sp2.getBetteryStatus()}\")"
      ],
      "metadata": {
        "colab": {
          "base_uri": "https://localhost:8080/"
        },
        "id": "2_smLYRQW5sL",
        "outputId": "8182efb7-037a-4ba6-a2dd-177f7563bef5"
      },
      "execution_count": 18,
      "outputs": [
        {
          "output_type": "stream",
          "name": "stdout",
          "text": [
            "010-1111-1111에서 010-3333-3333으로 전화를 겁니다\n",
            "하드웨어를 제어해서 010-3333-3333으로 전화를 겁니다\n",
            "010-2222-2222에서 010-4444-4444으로 전화를 겁니다\n",
            "하드웨어를 제어해서 010-4444-4444으로 전화를 겁니다\n",
            "sp1의 베터리 충전 상태: 80\n",
            "sp2의 베터리 충전 상태: 70\n"
          ]
        }
      ]
    },
    {
      "cell_type": "markdown",
      "source": [
        "## 클래스의 또 다른 사용 이유"
      ],
      "metadata": {
        "id": "bsHlx9vGW2qO"
      }
    },
    {
      "cell_type": "code",
      "source": [
        "subjects= [\"국어\", \"수학\", \"화학\", \"영어\"]\n",
        "scores = [90, 80, 95, 100]"
      ],
      "metadata": {
        "id": "a1PyQTYrW7jE"
      },
      "execution_count": 19,
      "outputs": []
    },
    {
      "cell_type": "code",
      "source": [
        "score = [[\"국어\", 90], [\"수학\", 80], [\"화학\", 95], [\"영어\", 100]]\n",
        "socre = {\"국어\":90, \"수학\":80, \"화학\":95, \"영어\":100}"
      ],
      "metadata": {
        "id": "JwXKd4ldxC1M"
      },
      "execution_count": 20,
      "outputs": []
    },
    {
      "cell_type": "code",
      "source": [
        "class Score:\n",
        "  def __init__(self, name, kor, math, chem, eng):\n",
        "    self.name = name\n",
        "    self.korean = kor\n",
        "    self.mathmatics = math\n",
        "    self.chemistry = chem\n",
        "    self.english = eng\n",
        "\n",
        "scores = []\n",
        "scores.append(Score(\"홍길동\", 90, 80, 95, 100))\n",
        "scores.append(Score(\"이금동\", 85, 90, 80, 100))"
      ],
      "metadata": {
        "id": "UAGERIQqxC6K"
      },
      "execution_count": 21,
      "outputs": []
    },
    {
      "cell_type": "code",
      "source": [
        "for s in scores:\n",
        "  print(f\"이름: {s.name}, 국어: {s.korean}, 수학: {s.mathmatics}, 화학: {s.chemistry}, 영어: {s.english}\")"
      ],
      "metadata": {
        "colab": {
          "base_uri": "https://localhost:8080/"
        },
        "id": "ga4jPUu5x3WU",
        "outputId": "8b2dbbe4-aed2-4faa-89f0-c9cd5c1293ea"
      },
      "execution_count": 22,
      "outputs": [
        {
          "output_type": "stream",
          "name": "stdout",
          "text": [
            "이름: 홍길동, 국어: 90, 수학: 80, 화학: 95, 영어: 100\n",
            "이름: 이금동, 국어: 85, 수학: 90, 화학: 80, 영어: 100\n"
          ]
        }
      ]
    },
    {
      "cell_type": "markdown",
      "source": [
        "## 상속과 다형성"
      ],
      "metadata": {
        "id": "PbdxMvxsXAEv"
      }
    },
    {
      "cell_type": "markdown",
      "source": [
        "## 상속과 다형성의 구현"
      ],
      "metadata": {
        "id": "hn8zu0PmXBzW"
      }
    },
    {
      "cell_type": "code",
      "source": [
        "class SmartPhone:\n",
        "  def __init__(self, name, phoneNum, battery):\n",
        "    self.owner = name\n",
        "    self.number = phoneNum\n",
        "    self.battery = battery\n",
        "\n",
        "  def call(self, phoneNum):\n",
        "    if self.battery >= 10:\n",
        "      print(f\"{self.number}에서 {phoneNum}으로 전화를 겁니다\")\n",
        "      self._hwCall(phoneNum)\n",
        "    else:\n",
        "      print(\"베터리가 부족합니다\")\n",
        "\n",
        "  def getBatteryStatus(self):\n",
        "    return self.battery\n",
        "\n",
        "  def _hwCall(self, phoneNum):   # protected 멤버 함수로 구현\n",
        "    print(f\"하드웨어를 제어해서 {phoneNum}으로 전화를 겁니다\")\n",
        "\n",
        "class FourGSmartPhone(SmartPhone):\n",
        "  def __init__(self):\n",
        "    self.fourGProperty1 = \"4G LTE Network\"\n",
        "\n",
        "  def other4GFunction1(self):\n",
        "    print(\"4G 기능 1을 처리합니다\")\n",
        "\n",
        "  def other4GFunction2(self):\n",
        "    print(\"4G 기능 2을 처리합니다\")\n",
        "\n",
        "  def _hwCall(self, phoneNum):\n",
        "      print(f\"4G 통신망을 사용해서 {phoneNum}으로 전화를 겁니다\")\n",
        "\n",
        "fsp1 = FourGSmartPhone()\n",
        "fsp1.other4GFunction1()\n",
        "fsp1.other4GFunction2()"
      ],
      "metadata": {
        "colab": {
          "base_uri": "https://localhost:8080/"
        },
        "id": "xAI5it6H6hTU",
        "outputId": "a496f8c4-6797-4122-cebf-d8ed6eddc7a0"
      },
      "execution_count": 23,
      "outputs": [
        {
          "output_type": "stream",
          "name": "stdout",
          "text": [
            "4G 기능 1을 처리합니다\n",
            "4G 기능 2을 처리합니다\n"
          ]
        }
      ]
    },
    {
      "cell_type": "code",
      "source": [
        "fsp1.call(\"010-3333-3333\")"
      ],
      "metadata": {
        "colab": {
          "base_uri": "https://localhost:8080/",
          "height": 316
        },
        "id": "ip8atiefkP9W",
        "outputId": "79ca8daf-e5bf-4673-928a-dba76af5d931"
      },
      "execution_count": 24,
      "outputs": [
        {
          "output_type": "error",
          "ename": "AttributeError",
          "evalue": "ignored",
          "traceback": [
            "\u001b[0;31m---------------------------------------------------------------------------\u001b[0m",
            "\u001b[0;31mAttributeError\u001b[0m                            Traceback (most recent call last)",
            "\u001b[0;32m<ipython-input-24-c85829653b45>\u001b[0m in \u001b[0;36m<cell line: 1>\u001b[0;34m()\u001b[0m\n\u001b[0;32m----> 1\u001b[0;31m \u001b[0mfsp1\u001b[0m\u001b[0;34m.\u001b[0m\u001b[0mcall\u001b[0m\u001b[0;34m(\u001b[0m\u001b[0;34m\"010-3333-3333\"\u001b[0m\u001b[0;34m)\u001b[0m\u001b[0;34m\u001b[0m\u001b[0;34m\u001b[0m\u001b[0m\n\u001b[0m",
            "\u001b[0;32m<ipython-input-23-470273c44f45>\u001b[0m in \u001b[0;36mcall\u001b[0;34m(self, phoneNum)\u001b[0m\n\u001b[1;32m      6\u001b[0m \u001b[0;34m\u001b[0m\u001b[0m\n\u001b[1;32m      7\u001b[0m   \u001b[0;32mdef\u001b[0m \u001b[0mcall\u001b[0m\u001b[0;34m(\u001b[0m\u001b[0mself\u001b[0m\u001b[0;34m,\u001b[0m \u001b[0mphoneNum\u001b[0m\u001b[0;34m)\u001b[0m\u001b[0;34m:\u001b[0m\u001b[0;34m\u001b[0m\u001b[0;34m\u001b[0m\u001b[0m\n\u001b[0;32m----> 8\u001b[0;31m     \u001b[0;32mif\u001b[0m \u001b[0mself\u001b[0m\u001b[0;34m.\u001b[0m\u001b[0mbattery\u001b[0m \u001b[0;34m>=\u001b[0m \u001b[0;36m10\u001b[0m\u001b[0;34m:\u001b[0m\u001b[0;34m\u001b[0m\u001b[0;34m\u001b[0m\u001b[0m\n\u001b[0m\u001b[1;32m      9\u001b[0m       \u001b[0mprint\u001b[0m\u001b[0;34m(\u001b[0m\u001b[0;34mf\"{self.number}에서 {phoneNum}으로 전화를 겁니다\"\u001b[0m\u001b[0;34m)\u001b[0m\u001b[0;34m\u001b[0m\u001b[0;34m\u001b[0m\u001b[0m\n\u001b[1;32m     10\u001b[0m       \u001b[0mself\u001b[0m\u001b[0;34m.\u001b[0m\u001b[0m_hwCall\u001b[0m\u001b[0;34m(\u001b[0m\u001b[0mphoneNum\u001b[0m\u001b[0;34m)\u001b[0m\u001b[0;34m\u001b[0m\u001b[0;34m\u001b[0m\u001b[0m\n",
            "\u001b[0;31mAttributeError\u001b[0m: 'FourGSmartPhone' object has no attribute 'battery'"
          ]
        }
      ]
    },
    {
      "cell_type": "code",
      "source": [
        "class FourGSmartPhone(SmartPhone):\n",
        "  def __init__(self, name, phoneNum, battery):  # 3개 인자를 부모로 전달\n",
        "    super().__init__(name, phoneNum, battery)   # 부모 클래스(SmartPhone)의 생성자 호출\n",
        "    self.fourGProperty1 = \"4G LTE Network\"\n",
        "\n",
        "  def other4GFunction1(self):\n",
        "    print(f\"{self.fourGProperty1}\")\n",
        "\n",
        "  def other4GFunction2(self):\n",
        "    print(\"4G 기능 2을 처리합니다\")\n",
        "\n",
        "  def _hwCall(self, phoneNum):\n",
        "      print(f\"4G 통신망을 사용해서 {phoneNum}으로 전화를 겁니다\")\n",
        "\n",
        "fsp1 = FourGSmartPhone(\"cho\", \"010-1111-1111\", 80)\n",
        "fsp1.call(\"010-3333-3333\")"
      ],
      "metadata": {
        "colab": {
          "base_uri": "https://localhost:8080/"
        },
        "id": "PzUQ3kxu8s0I",
        "outputId": "779ab786-dc59-4909-a43c-67ee7cea976f"
      },
      "execution_count": 25,
      "outputs": [
        {
          "output_type": "stream",
          "name": "stdout",
          "text": [
            "010-1111-1111에서 010-3333-3333으로 전화를 겁니다\n",
            "4G 통신망을 사용해서 010-3333-3333으로 전화를 겁니다\n"
          ]
        }
      ]
    },
    {
      "cell_type": "code",
      "source": [
        "class FiveGSmartPhone(SmartPhone):\n",
        "  def __init__(self, name, phoneNum, battery):\n",
        "    super().__init__(name, phoneNum, battery)\n",
        "    self.fiveGProperty1 = \"5G Network\"\n",
        "\n",
        "  def other5GFunction1(self):\n",
        "    print(f\"{self.fiveGProperty1}\")\n",
        "\n",
        "  def other5GFunction2(self):\n",
        "    print(\"5G 기능 2를 처리합니다\")\n",
        "\n",
        "  def _hwCall(self, phoneNum):\n",
        "    print(f\"5G 통신망을 사용해서 {phoneNum}으로 전화를 겁니다\")\n",
        "\n",
        "fsp2 = FiveGSmartPhone(\"lim\", \"010-2222-2222\", 70)\n",
        "fsp2.other5GFunction1()\n",
        "fsp2.other5GFunction2()\n",
        "fsp2.call(\"010-4444-4444\")"
      ],
      "metadata": {
        "colab": {
          "base_uri": "https://localhost:8080/"
        },
        "id": "B6-b1atP9VKc",
        "outputId": "334cb6f6-48da-4848-ea91-73c7b6a30621"
      },
      "execution_count": 26,
      "outputs": [
        {
          "output_type": "stream",
          "name": "stdout",
          "text": [
            "5G Network\n",
            "5G 기능 2를 처리합니다\n",
            "010-2222-2222에서 010-4444-4444으로 전화를 겁니다\n",
            "5G 통신망을 사용해서 010-4444-4444으로 전화를 겁니다\n"
          ]
        }
      ]
    },
    {
      "cell_type": "code",
      "source": [],
      "metadata": {
        "id": "M3UsKM5b-Ry0"
      },
      "execution_count": 26,
      "outputs": []
    },
    {
      "cell_type": "markdown",
      "source": [
        "*   실습문제1: 사각형 또는 원의 면적 계산에 필요한 데이터를 3회 입력받고, 면적을 계산한다. 입력 데이터는 리스트에 저장한 후, 순차적으로 면적을 계산해서 출력하는 프로그램을 작성한다.\n",
        "\n",
        "\n",
        "*   요구사항:\n",
        "-  사각형과 원을 클래스로 구현한다.\n",
        "-  사각형은 왼쪽 상단(x1, y1) 과 오른쪽 하단(x2, y2)의 좌표값을 입력받고, 원은 중심 좌표(x, y)와 반지름을 입력받는다.\n",
        "-  좌표값은 x축은 오른쪽으로 커지는 방향, y축은 윗쪽으로 커지는 방향이다.\n",
        "-  좌표값들은 정수이다\n",
        "-  사용자로부터 입력받을 때 모양을 먼저 문자열로 입력받고(예: 사각형, 원), 모양에 따라 4개의 정수 좌표를 입력받거나(사각형), 세 개의 정수를 입력받는다(원).\n",
        "-  사용자가 어떤 순서로 모양을 입력할지 모른다고 가정한다.\n",
        "-  사용자는 모양과 정수값들을 오류 없이 입력한다고 가정한다.\n",
        "\n"
      ],
      "metadata": {
        "id": "Rx5E5nBO-f_h"
      }
    },
    {
      "cell_type": "code",
      "source": [
        "import math\n",
        "\n",
        "class Rectangle:\n",
        "  def __init__(self, x1, y1, x2, y2):\n",
        "    self.x1 = x1\n",
        "    self.y1 = y1\n",
        "    self.x2 = x2\n",
        "    self.y2 = y2\n",
        "\n",
        "  def calcArea(self):\n",
        "    return (self.x2 - self.x1) * (self.y1 - self.y2)\n",
        "\n",
        "class Circle:\n",
        "  def __init__(self, x, y, r):\n",
        "    self.x = x\n",
        "    self.y = y\n",
        "    self.r = r\n",
        "\n",
        "  def calcArea(self):\n",
        "    return math.pi * self.r * self.r\n",
        "\n",
        "shapeList = []\n",
        "for i in range(3):\n",
        "  s = input(\"도형 모양을 입력하세요: \")\n",
        "  if s == \"사각형\":\n",
        "    x1 = int(input(\"왼쪽 상단의 x좌표를 입력하세요: \"))\n",
        "    y1 = int(input(\"왼쪽 상단의 y좌표를 입력하세요: \"))\n",
        "    x2 = int(input(\"오른쪽 하단의 x좌표를 입력하세요: \"))\n",
        "    y2 = int(input(\"오른쪽 하단의 y좌표를 입력하세요: \"))\n",
        "    shapeList.append(Rectangle(x1, y1, x2, y2))\n",
        "\n",
        "  elif s == \"원\":\n",
        "    x = int(input(\"원의 중심 x 좌표를 입력하세요: \"))\n",
        "    y = int(input(\"원의 중심 y 좌표를 입력하세요: \"))\n",
        "    r = int(input(\"원의 반지름을 입력하세요: \"))\n",
        "    shapeList.append(Circle(x, y, r))\n",
        "\n",
        "for s in shapeList:\n",
        "  print(f\"면적: {s.calcArea()}\")"
      ],
      "metadata": {
        "colab": {
          "base_uri": "https://localhost:8080/"
        },
        "id": "iJN5p-VN-g7O",
        "outputId": "dab613a7-2834-4650-dda5-5233f2455991"
      },
      "execution_count": 27,
      "outputs": [
        {
          "name": "stdout",
          "output_type": "stream",
          "text": [
            "도형 모양을 입력하세요: \n",
            "도형 모양을 입력하세요: \n",
            "도형 모양을 입력하세요: \n"
          ]
        }
      ]
    },
    {
      "cell_type": "code",
      "source": [],
      "metadata": {
        "id": "EAkrLl0-Cu0v"
      },
      "execution_count": 27,
      "outputs": []
    },
    {
      "cell_type": "markdown",
      "source": [
        "*   실습문제2: 실습 문제 1에서 만들었던 Rectangle과 Circle을 Shape 클래스에서 상속받도록 다시 구현한다. Shape 클래스는 도형의 모양을 나타내는 문자열을 포함하고, 이 문자열을 반환하는 멤버함수를 구현한다.\n",
        "\n",
        "\n",
        "*   요구사항:\n",
        "-  실습 문제 1에서 했던 것처럼 3개의 도형 정보를 입력받아 면적을 출력한다.\n",
        "-  도형 정보를 \"도형 모양: 사각형\" 또는 \"도형 모양: 원\" 형태로 출력하고, 다음 줄에 면적을 출력한다.\n"
      ],
      "metadata": {
        "id": "M9AsOlF--hZ1"
      }
    },
    {
      "cell_type": "code",
      "source": [
        "import math\n",
        "\n",
        "class Shape:\n",
        "  def __init__(self, shapeStr):\n",
        "    self.shapeStr = shapeStr\n",
        "\n",
        "  def getShapeStr(self):\n",
        "    return self.shapeStr\n",
        "\n",
        "class Rectangle(Shape):\n",
        "  def __init__(self, shapeStr, x1, y1, x2, y2):\n",
        "    super().__init__(shapeStr)\n",
        "    self.x1 = x1\n",
        "    self.y1 = y1\n",
        "    self.x2 = x2\n",
        "    self.y2 = y2\n",
        "\n",
        "  def calcArea(self):\n",
        "    return (self.x2 - self.x1) * (self.y1 - self.y2)\n",
        "\n",
        "class Circle(Shape):\n",
        "  def __init__(self, shapeStr, x, y, r):\n",
        "    super().__init__(shapeStr)\n",
        "    self.x = x\n",
        "    self.y = y\n",
        "    self.r = r\n",
        "\n",
        "  def calcArea(self):\n",
        "    return math.pi * self.r * self.r\n",
        "\n",
        "shapeList = []\n",
        "for i in range(3):\n",
        "  s = input(\"도형 모양을 입력하세요: \")\n",
        "  if s == \"사각형\":\n",
        "    x1 = int(input(\"왼쪽 상단의 x좌표를 입력하세요: \"))\n",
        "    y1 = int(input(\"왼쪽 상단의 y좌표를 입력하세요: \"))\n",
        "    x2 = int(input(\"오른쪽 하단의 x좌표를 입력하세요: \"))\n",
        "    y2 = int(input(\"오른쪽 하단의 y좌표를 입력하세요: \"))\n",
        "    shapeList.append(Rectangle(\"사각형\", x1, y1, x2, y2))\n",
        "\n",
        "  elif s == \"원\":\n",
        "    x = int(input(\"원의 중심 x 좌표를 입력하세요: \"))\n",
        "    y = int(input(\"원의 중심 y 좌표를 입력하세요: \"))\n",
        "    r = int(input(\"원의 반지름을 입력하세요: \"))\n",
        "    shapeList.append(Circle(\"원\", x, y, r))\n",
        "\n",
        "for s in shapeList:\n",
        "  print(f\"도형 모양: {s.getShapeStr()}\")\n",
        "  print(f\"면적: {s.calcArea()}\")"
      ],
      "metadata": {
        "colab": {
          "base_uri": "https://localhost:8080/"
        },
        "id": "wi6Bq1u0CuM6",
        "outputId": "39d0dbac-fcfc-434f-cbbf-4d4e23b3bb47"
      },
      "execution_count": null,
      "outputs": [
        {
          "name": "stdout",
          "output_type": "stream",
          "text": [
            "도형 모양을 입력하세요: \n"
          ]
        }
      ]
    },
    {
      "cell_type": "markdown",
      "source": [
        "# Reference: 본 코드는 길벗 출판사의 \"파이썬의 정석\" 책의 코드를 수업형식에 맞게 응용한 코드입니다."
      ],
      "metadata": {
        "id": "0cfq011Q-h4m"
      }
    }
  ]
}