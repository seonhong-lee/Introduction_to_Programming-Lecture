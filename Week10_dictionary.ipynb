{
  "nbformat": 4,
  "nbformat_minor": 0,
  "metadata": {
    "colab": {
      "provenance": []
    },
    "kernelspec": {
      "name": "python3",
      "display_name": "Python 3"
    },
    "language_info": {
      "name": "python"
    }
  },
  "cells": [
    {
      "cell_type": "markdown",
      "source": [
        "## 딕셔너리 (dictionary)"
      ],
      "metadata": {
        "id": "NxAn43EtksqO"
      }
    },
    {
      "cell_type": "markdown",
      "source": [
        "## 연관되는 데이터와 딕셔너리"
      ],
      "metadata": {
        "id": "E4ADv55bkvNV"
      }
    },
    {
      "cell_type": "code",
      "source": [
        "subjects = [\"국어\", \"수학\", \"화학\", \"영어\"]\n",
        "socres = [90, 80, 95, 100]\n",
        "\n",
        "for i in range(len(subjects)):\n",
        "  print(f\"{subjects[i]}: {socres[i]}\")"
      ],
      "metadata": {
        "colab": {
          "base_uri": "https://localhost:8080/"
        },
        "id": "XZGTBDtDtLvT",
        "outputId": "0acb524b-2e19-44ee-c70c-f680682609b0"
      },
      "execution_count": null,
      "outputs": [
        {
          "output_type": "stream",
          "name": "stdout",
          "text": [
            "국어: 90\n",
            "수학: 80\n",
            "화학: 95\n",
            "영어: 100\n"
          ]
        }
      ]
    },
    {
      "cell_type": "markdown",
      "source": [
        "## 딕셔너리 표현 및 사용법"
      ],
      "metadata": {
        "id": "zMWxBR2Zkx2u"
      }
    },
    {
      "cell_type": "markdown",
      "source": [
        "\n",
        "\n",
        "*   딕셔너리 표현 방법\n",
        "\n"
      ],
      "metadata": {
        "id": "kbMt_9UQk0S2"
      }
    },
    {
      "cell_type": "code",
      "source": [
        "# {키1:값1, 키2:값2}"
      ],
      "metadata": {
        "id": "hf0BLOJytrdO"
      },
      "execution_count": null,
      "outputs": []
    },
    {
      "cell_type": "markdown",
      "source": [
        "\n",
        "\n",
        "*   딕셔너리 생성 및 요소 추가\n",
        "\n"
      ],
      "metadata": {
        "id": "OfY_a_mHk2MI"
      }
    },
    {
      "cell_type": "code",
      "source": [
        "# 빈 딕셔너리 생성 후 요소 추가\n",
        "# 요소를 명시해서 딕셔너리 생성"
      ],
      "metadata": {
        "id": "aSIdm-30uaBP"
      },
      "execution_count": null,
      "outputs": []
    },
    {
      "cell_type": "markdown",
      "source": [
        "\n",
        "\n",
        "*   빈 딕셔너리 생성\n",
        "\n"
      ],
      "metadata": {
        "id": "Rn4LRlWlk4kS"
      }
    },
    {
      "cell_type": "code",
      "source": [
        "emptyDictionary = {} # 빈 딕셔너리 생성\n",
        "print(emptyDictionary)"
      ],
      "metadata": {
        "colab": {
          "base_uri": "https://localhost:8080/"
        },
        "id": "XVcBtj1jucCa",
        "outputId": "af266186-4a6f-4b90-fecd-6eb3827aded3"
      },
      "execution_count": null,
      "outputs": [
        {
          "output_type": "stream",
          "name": "stdout",
          "text": [
            "{}\n"
          ]
        }
      ]
    },
    {
      "cell_type": "code",
      "source": [
        "emptyDictionary = dict()\n",
        "print(emptyDictionary)"
      ],
      "metadata": {
        "colab": {
          "base_uri": "https://localhost:8080/"
        },
        "id": "9uUUoj7uupDa",
        "outputId": "66c31e0b-eb03-4299-fedd-9c4457ad07f4"
      },
      "execution_count": null,
      "outputs": [
        {
          "output_type": "stream",
          "name": "stdout",
          "text": [
            "{}\n"
          ]
        }
      ]
    },
    {
      "cell_type": "markdown",
      "source": [
        "\n",
        "\n",
        "*   요소를 명시해서 딕셔너리 생성\n",
        "\n"
      ],
      "metadata": {
        "id": "fK8Va5x3k6gb"
      }
    },
    {
      "cell_type": "code",
      "source": [
        "d1 = {2:3, \"hello\":\"world\", \"수학\":90} # 요소를 명시해서 생성\n",
        "lectureList = {\"파이썬프로그래밍1\":[\"화5\", \"목34\"], \"파이썬프로그래밍2\":[\"화6\", \"목56\"]}"
      ],
      "metadata": {
        "id": "dwTNp4Z5uiLr"
      },
      "execution_count": null,
      "outputs": []
    },
    {
      "cell_type": "code",
      "source": [
        "d = {\"name\" : \"홍길동\", \"age\" : 20, \"취미\" : [\"영화 감상\", \"게임\", \"독서\"], \"name\" : \"김길동\"}\n",
        "print(d[\"name\"])"
      ],
      "metadata": {
        "colab": {
          "base_uri": "https://localhost:8080/"
        },
        "id": "HF0NrnFsvJpX",
        "outputId": "b317c17a-cc77-4507-f75f-b3cca4304ff0"
      },
      "execution_count": null,
      "outputs": [
        {
          "output_type": "stream",
          "name": "stdout",
          "text": [
            "김길동\n"
          ]
        }
      ]
    },
    {
      "cell_type": "code",
      "source": [
        "emptyDictionary[2] = 3 #emptyDictionary에 2:3을 요소로 추가\n",
        "print(emptyDictionary)\n",
        "\n",
        "emptyDictionary[\"lectures\"] = [\"수학\", \"영어\"] # 리스트를 값으로 추가\n",
        "print(emptyDictionary)\n",
        "\n",
        "d1[\"hello\"] = \"everyone\" # d1의 \"hello\":\"world\"의 값을 변경\n",
        "print(d1)\n",
        "\n",
        "d1[\"수학\"] = \"영어\"  # 기존 요소 값을 변경\n",
        "print(d1)\n",
        "\n",
        "boolean = {False:0} # 불린값을 키로 사용\n",
        "boolean[True] = 1\n",
        "print(boolean)\n",
        "\n",
        "d2 = {(1, 2): \"튜플\"} # 튜플을 키로 사용\n",
        "print(d2)"
      ],
      "metadata": {
        "colab": {
          "base_uri": "https://localhost:8080/"
        },
        "id": "zVF36ruNvZuZ",
        "outputId": "bc3f12da-cc74-4c35-e250-f4553a48e875"
      },
      "execution_count": null,
      "outputs": [
        {
          "output_type": "stream",
          "name": "stdout",
          "text": [
            "{2: 3}\n",
            "{2: 3, 'lectures': ['수학', '영어']}\n",
            "{2: 3, 'hello': 'everyone', '수학': 90}\n",
            "{2: 3, 'hello': 'everyone', '수학': '영어'}\n",
            "{False: 0, True: 1}\n",
            "{(1, 2): '튜플'}\n"
          ]
        }
      ]
    },
    {
      "cell_type": "markdown",
      "source": [
        "\n",
        "\n",
        "*   여러 개 값을 한꺼번에 추가 또는 수정\n",
        "\n"
      ],
      "metadata": {
        "id": "sLaQrFOXk9p9"
      }
    },
    {
      "cell_type": "code",
      "source": [
        "d = {1 : 2, False : 20, (1, 2) : \"튜플\"}\n",
        "d.update({1:3, False:\"불린값\", (1,2):[1,2], \"key\":\"value\"})\n",
        "\n",
        "print(d[1])\n",
        "print(d[False])\n",
        "print(d[(1,2)])\n",
        "print(d[\"key\"])"
      ],
      "metadata": {
        "colab": {
          "base_uri": "https://localhost:8080/"
        },
        "id": "pEGXVmqeunfY",
        "outputId": "fe473276-33ea-4083-9e0d-b65c11e2f8f9"
      },
      "execution_count": null,
      "outputs": [
        {
          "output_type": "stream",
          "name": "stdout",
          "text": [
            "3\n",
            "불린값\n",
            "[1, 2]\n",
            "value\n"
          ]
        }
      ]
    },
    {
      "cell_type": "markdown",
      "source": [
        "\n",
        "\n",
        "*   요소 접근 및 사용\n",
        "\n"
      ],
      "metadata": {
        "id": "c3hE8MnolA8o"
      }
    },
    {
      "cell_type": "code",
      "source": [
        "print(emptyDictionary[2])\n",
        "print(emptyDictionary.get(2))\n",
        "print(emptyDictionary[\"lectures\"])\n",
        "print(emptyDictionary.get(\"lectures\"))\n",
        "print(boolean[False]) # 또는 boolean.get(False)를 사용\n",
        "print(d2[(1, 2)])\n",
        "print(d2.get((1, 2)))"
      ],
      "metadata": {
        "colab": {
          "base_uri": "https://localhost:8080/"
        },
        "id": "e8cGL2EUwj5o",
        "outputId": "a538094e-cb96-47e6-8fca-b52182e30dc0"
      },
      "execution_count": null,
      "outputs": [
        {
          "output_type": "stream",
          "name": "stdout",
          "text": [
            "3\n",
            "3\n",
            "['수학', '영어']\n",
            "['수학', '영어']\n",
            "0\n",
            "튜플\n",
            "튜플\n"
          ]
        }
      ]
    },
    {
      "cell_type": "code",
      "source": [
        "print(d2)\n",
        "print(d2[3]) # 없는 키 3으로 확인, 오류 발생"
      ],
      "metadata": {
        "colab": {
          "base_uri": "https://localhost:8080/",
          "height": 219
        },
        "id": "7BIyzKa0w-0N",
        "outputId": "e468ae9c-55be-4eb2-8003-d0197c6eaa45"
      },
      "execution_count": null,
      "outputs": [
        {
          "output_type": "stream",
          "name": "stdout",
          "text": [
            "{(1, 2): '튜플'}\n"
          ]
        },
        {
          "output_type": "error",
          "ename": "KeyError",
          "evalue": "ignored",
          "traceback": [
            "\u001b[0;31m---------------------------------------------------------------------------\u001b[0m",
            "\u001b[0;31mKeyError\u001b[0m                                  Traceback (most recent call last)",
            "\u001b[0;32m<ipython-input-23-1d81e92e903b>\u001b[0m in \u001b[0;36m<cell line: 2>\u001b[0;34m()\u001b[0m\n\u001b[1;32m      1\u001b[0m \u001b[0mprint\u001b[0m\u001b[0;34m(\u001b[0m\u001b[0md2\u001b[0m\u001b[0;34m)\u001b[0m\u001b[0;34m\u001b[0m\u001b[0;34m\u001b[0m\u001b[0m\n\u001b[0;32m----> 2\u001b[0;31m \u001b[0mprint\u001b[0m\u001b[0;34m(\u001b[0m\u001b[0md2\u001b[0m\u001b[0;34m[\u001b[0m\u001b[0;36m3\u001b[0m\u001b[0;34m]\u001b[0m\u001b[0;34m)\u001b[0m \u001b[0;31m# 없는 키 3으로 확인, 오류 발생\u001b[0m\u001b[0;34m\u001b[0m\u001b[0;34m\u001b[0m\u001b[0m\n\u001b[0m",
            "\u001b[0;31mKeyError\u001b[0m: 3"
          ]
        }
      ]
    },
    {
      "cell_type": "code",
      "source": [
        "print(d2.get(3))"
      ],
      "metadata": {
        "colab": {
          "base_uri": "https://localhost:8080/"
        },
        "id": "fSPIDGW8xFa8",
        "outputId": "2057a2fc-bfc7-4e8b-99e4-02b95c92b6d1"
      },
      "execution_count": null,
      "outputs": [
        {
          "output_type": "stream",
          "name": "stdout",
          "text": [
            "None\n"
          ]
        }
      ]
    },
    {
      "cell_type": "markdown",
      "source": [
        "\n",
        "\n",
        "*   키가 딕셔너리에 있는지 확인\n",
        "\n"
      ],
      "metadata": {
        "id": "gZYMNMTslEGx"
      }
    },
    {
      "cell_type": "code",
      "source": [
        "if 3 in d2:\n",
        "  print(d2[3])\n",
        "else:\n",
        "  print(\"3이 키가 아닙니다\")"
      ],
      "metadata": {
        "colab": {
          "base_uri": "https://localhost:8080/"
        },
        "id": "XixBPI7pxJ9W",
        "outputId": "64c64d5a-1b98-44ea-c347-0f17bd4b6e69"
      },
      "execution_count": null,
      "outputs": [
        {
          "output_type": "stream",
          "name": "stdout",
          "text": [
            "3이 키가 아닙니다\n"
          ]
        }
      ]
    },
    {
      "cell_type": "markdown",
      "source": [
        "\n",
        "\n",
        "*   요소 개수 확인\n",
        "\n"
      ],
      "metadata": {
        "id": "RCsfpDNzlH-5"
      }
    },
    {
      "cell_type": "code",
      "source": [
        "print(d2)\n",
        "print(len(d2))\n",
        "\n",
        "print(d1)\n",
        "print(len(d1))\n",
        "\n",
        "print(emptyDictionary)\n",
        "print(len(emptyDictionary))\n",
        "\n",
        "print(len({}))"
      ],
      "metadata": {
        "colab": {
          "base_uri": "https://localhost:8080/"
        },
        "id": "fBoKdTz4yErj",
        "outputId": "d3c7abce-f12f-4fce-be5b-f0577af25291"
      },
      "execution_count": null,
      "outputs": [
        {
          "output_type": "stream",
          "name": "stdout",
          "text": [
            "{(1, 2): '튜플'}\n",
            "1\n",
            "{2: 3, 'hello': 'everyone', '수학': '영어'}\n",
            "3\n",
            "{2: 3, 'lectures': ['수학', '영어']}\n",
            "2\n",
            "0\n"
          ]
        }
      ]
    },
    {
      "cell_type": "markdown",
      "source": [
        "\n",
        "\n",
        "*   요소 삭제\n",
        "\n"
      ],
      "metadata": {
        "id": "Hkxn2RHblKO-"
      }
    },
    {
      "cell_type": "code",
      "source": [
        "print(d1)\n",
        "del(d[1]) # 키가 1인 요소 삭제\n",
        "print(d1)\n",
        "\n",
        "print(d)\n",
        "del(d[False])\n",
        "print(d)"
      ],
      "metadata": {
        "colab": {
          "base_uri": "https://localhost:8080/"
        },
        "id": "LeNSfy83yYnq",
        "outputId": "066ab013-f0a4-4471-b132-4264d03efaf8"
      },
      "execution_count": null,
      "outputs": [
        {
          "output_type": "stream",
          "name": "stdout",
          "text": [
            "{2: 3, 'hello': 'everyone', '수학': '영어'}\n",
            "{2: 3, 'hello': 'everyone', '수학': '영어'}\n",
            "{False: '불린값', (1, 2): [1, 2], 'key': 'value'}\n",
            "{(1, 2): [1, 2], 'key': 'value'}\n"
          ]
        }
      ]
    },
    {
      "cell_type": "markdown",
      "source": [
        "\n",
        "\n",
        "*   요소 전체를 삭제\n"
      ],
      "metadata": {
        "id": "5YUFr46elMFX"
      }
    },
    {
      "cell_type": "code",
      "source": [
        "d = {1: 2, False: 20, (1, 2) : \"튜플\"}\n",
        "d.clear()\n",
        "print(d)"
      ],
      "metadata": {
        "colab": {
          "base_uri": "https://localhost:8080/"
        },
        "id": "5ttQbEMvyzUz",
        "outputId": "0b3f70ad-cb6b-4904-9573-c7309dadeaf1"
      },
      "execution_count": null,
      "outputs": [
        {
          "output_type": "stream",
          "name": "stdout",
          "text": [
            "{}\n"
          ]
        }
      ]
    },
    {
      "cell_type": "markdown",
      "source": [
        "## for문과 딕셔너리 사용\n"
      ],
      "metadata": {
        "id": "2zHXYb0JlOL9"
      }
    },
    {
      "cell_type": "code",
      "source": [
        "d = {1:2, False:20, (1,2): \"튜플\"}\n",
        "for key in d:\n",
        "  print(f\"{key}:{d[key]}\")"
      ],
      "metadata": {
        "colab": {
          "base_uri": "https://localhost:8080/"
        },
        "id": "Ag93gn-3lD15",
        "outputId": "aff726c5-7642-4157-a00a-56a39cd04b7d"
      },
      "execution_count": null,
      "outputs": [
        {
          "output_type": "stream",
          "name": "stdout",
          "text": [
            "1:2\n",
            "False:20\n",
            "(1, 2):튜플\n"
          ]
        }
      ]
    },
    {
      "cell_type": "code",
      "source": [
        "for key in d.keys():\n",
        "  print(f\"{key}:{d[key]}\")"
      ],
      "metadata": {
        "colab": {
          "base_uri": "https://localhost:8080/"
        },
        "id": "bzwKFOgVzFfV",
        "outputId": "9f002d28-1022-4cff-ba1c-3bd8135419c0"
      },
      "execution_count": null,
      "outputs": [
        {
          "output_type": "stream",
          "name": "stdout",
          "text": [
            "1:2\n",
            "False:20\n",
            "(1, 2):튜플\n"
          ]
        }
      ]
    },
    {
      "cell_type": "code",
      "source": [
        "d = {1:2, False:20, (1,2):\"튜플\", \"문자열\":2} # 값 2가 중복됨\n",
        "for value in d.values():\n",
        "  print(value)"
      ],
      "metadata": {
        "colab": {
          "base_uri": "https://localhost:8080/"
        },
        "id": "bzuXc3idzMQy",
        "outputId": "0db0a28b-0e80-45a8-8ff9-2fd6cd633ffe"
      },
      "execution_count": null,
      "outputs": [
        {
          "output_type": "stream",
          "name": "stdout",
          "text": [
            "2\n",
            "20\n",
            "튜플\n",
            "2\n"
          ]
        }
      ]
    },
    {
      "cell_type": "code",
      "source": [
        "d = {1:2, False:20, (1,2):\"튜플\", \"문자열\":2}\n",
        "for key, value in d.items():\n",
        "  print(f\"{key}:{value}\")"
      ],
      "metadata": {
        "colab": {
          "base_uri": "https://localhost:8080/"
        },
        "id": "FT5wUhpwzWuq",
        "outputId": "6a75fb27-6560-42b1-be19-47cb77b77659"
      },
      "execution_count": null,
      "outputs": [
        {
          "output_type": "stream",
          "name": "stdout",
          "text": [
            "1:2\n",
            "False:20\n",
            "(1, 2):튜플\n",
            "문자열:2\n"
          ]
        }
      ]
    },
    {
      "cell_type": "code",
      "source": [],
      "metadata": {
        "id": "oTOdqostku7B"
      },
      "execution_count": null,
      "outputs": []
    },
    {
      "cell_type": "markdown",
      "source": [
        "*   실습문제5: 다음 코드에서 보인 문자열 sentence에서 각 알파벳 문자들의 빈도수를 구하는 프로그램을 작성한다.\n",
        "\n",
        "sentences = \"\"\"Lorem ipsum dolor sit amet, consectetuer adipiscing elit.\n",
        "Maecenas porttitor congue massa.\n",
        "Fusce posuere, magna sed pulvinar ultricies, purus lectus malesuada libero, sit amet\n",
        "commodo magna eros quis urna.\n",
        "Nunc viverra imperdiet enim.\n",
        "\"\"\"\n",
        "\n",
        "\n",
        "\n",
        "\n",
        "*   요구사항:\n",
        "- 공백 문자, 탭문자, 줄바꿈 문자, 마침표나 따옴표, 콤마 같은 특수 문자의 개수도 각각 센다.\n",
        "- 대문자와 소문자를 구별하지 않고 글자 수를 센다.\n",
        "- 글자: 개수 형태로 화면에 출력한다.\n",
        "-- 영문 알파벳은 소문자로 출력한다.\n",
        "-- 화면에 출력할 수 없는 공백 문자, 탭문자, 줄바꿈 문자는 글자를 대신해서 SPACE, TAB, NEWLINE으로 출력한다(예: NEWLINE:3)"
      ],
      "metadata": {
        "id": "S9R9D9eilYRh"
      }
    },
    {
      "cell_type": "code",
      "source": [
        "sentences = \"\"\"Lorem ipsum dolor sit amet, consectetuer adipiscing elit.\n",
        "Maecenas porttitor congue massa.\n",
        "Fusce posuere, magna sed pulvinar ultricies, purus lectus malesuada libero, sit amet\n",
        "commodo magna eros quis urna.\n",
        "Nunc viverra imperdiet enim.\n",
        "\"\"\"\n",
        "# 빈 딕셔너리 생성\n",
        "d = {}\n",
        "\n",
        "lowerSentences = sentences.lower()\n",
        "# 각 글자들이 딕셔너리에 있는지 확인하고 1을 증가시키거나 1로 초기화\n",
        "for s in lowerSentences:\n",
        "  if s in d:\n",
        "    d[s] += 1\n",
        "  else:\n",
        "    d[s] = 1\n",
        "\n",
        "# 각 글자들이 딕셔너리에 있는지 확인하고 1을 증가시키거나 1로 초기화\n",
        "for k, v in d.items():\n",
        "  if k == \" \":\n",
        "    k = \"SPACE\"\n",
        "  elif k == \"\\t\":\n",
        "    k = \"TAB\"\n",
        "  elif k == \"\\n\":\n",
        "    k = \"NEWLINE\"\n",
        "\n",
        "  print(f\"{k}:{v}\")"
      ],
      "metadata": {
        "colab": {
          "base_uri": "https://localhost:8080/"
        },
        "id": "bA269joyoSPo",
        "outputId": "91d8d2d0-f130-49a2-dff1-29b7568dbbf5"
      },
      "execution_count": null,
      "outputs": [
        {
          "output_type": "stream",
          "name": "stdout",
          "text": [
            "l:8\n",
            "o:13\n",
            "r:15\n",
            "e:23\n",
            "m:13\n",
            "SPACE:28\n",
            "i:17\n",
            "p:7\n",
            "s:17\n",
            "u:14\n",
            "d:6\n",
            "t:13\n",
            "a:17\n",
            ",:4\n",
            "c:10\n",
            "n:11\n",
            "g:4\n",
            ".:4\n",
            "NEWLINE:5\n",
            "f:1\n",
            "v:3\n",
            "b:1\n",
            "q:1\n"
          ]
        }
      ]
    },
    {
      "cell_type": "markdown",
      "source": [
        "*   실습문제6: 서울시에 살고 있던 구별 인구 중 10개를 가나다순으로 뽑아서 문자열을 만들었다.\n",
        "- guPopulation = \"강남구,233363,강동구,199088,강북구,144410,강서구,267442,관악구,273736,광진구,166638,구로구,180027,금천구,114402,노원구,217272,도봉구,138120\"\n",
        "이 문자열을 이용해서 구:인구 형태의 딕셔너리를 구성한다.\n",
        "사용자로부터 정수 한 개를 입력받고, 입력한 값보다 인구가 적은 구를 찾아 구의 이름과 인구를 화면에 모두 출력하는 프로그램을 작성한다.\n",
        "\n",
        "\n",
        "*   요구사항:\n",
        "- 사용자는 정수를 입력할 것이라고 가정한다.\n",
        "- 만약 사용자가 입력한 정수값(변수 num이라고 가정)보다 작은 구가 없으면 \"인구가 num보다 작은 구가 없습니다\"를 출력한다.\n",
        "- 구:인구 형태로 출력한다."
      ],
      "metadata": {
        "id": "rgsC7PVJlhTj"
      }
    },
    {
      "cell_type": "code",
      "source": [
        "guPopulation = \"강남구,233363,강동구,199088,강북구,144410,강서구,267442,관악구,273736,광진구,166638,구로구,180027,금천구,114402,노원구,217272,도봉구,138120\"\n",
        "\n",
        "# 문자열에서 리스트 구성. 리스트의 요소는 구, 인구, 구 인구, ...\n",
        "lst = guPopulation.split(\",\")\n",
        "\n",
        "# 리스트로부터 딕셔너리 생성\n",
        "d = {}\n",
        "for i in range(0, len(lst), 2):\n",
        "  d[lst[i]] = int(lst[i + 1])\n",
        "\n",
        "# 인구 입력 받기\n",
        "num = int(input(\"비교할 인구를 입력하세요: \"))\n",
        "\n",
        "# 딕셔너리에 있는 구/인구 정보와 인구 비교\n",
        "count = 0\n",
        "for gu, population in d.items():\n",
        "  if population < num:\n",
        "    print(f\"{gu}:{population}\")\n",
        "    count += 1 # 출력된 구가 있음\n",
        "\n",
        "# count == 0이면 출력된 구가 없음\n",
        "if count == 0:\n",
        "  print(f\"인구가 {num}보다 작은 구가 없습니다\")"
      ],
      "metadata": {
        "colab": {
          "base_uri": "https://localhost:8080/"
        },
        "id": "gASeKlEboSyq",
        "outputId": "bbee3364-f373-42d0-d612-8cba81b914d8"
      },
      "execution_count": null,
      "outputs": [
        {
          "output_type": "stream",
          "name": "stdout",
          "text": [
            "비교할 인구를 입력하세요: 100000\n",
            "인구가 100000보다 작은 구가 없습니다\n"
          ]
        }
      ]
    },
    {
      "cell_type": "markdown",
      "source": [
        "# Reference: 본 코드는 길벗 출판사의 \"파이썬의 정석\" 책의 코드를 수업형식에 맞게 응용한 코드입니다."
      ],
      "metadata": {
        "id": "-1h5t5ljkqfV"
      }
    }
  ]
}