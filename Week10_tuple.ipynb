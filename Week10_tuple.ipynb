{
  "nbformat": 4,
  "nbformat_minor": 0,
  "metadata": {
    "colab": {
      "provenance": []
    },
    "kernelspec": {
      "name": "python3",
      "display_name": "Python 3"
    },
    "language_info": {
      "name": "python"
    }
  },
  "cells": [
    {
      "cell_type": "markdown",
      "source": [
        "## 튜플 (tuple)"
      ],
      "metadata": {
        "id": "PuIxs-7DzCMj"
      }
    },
    {
      "cell_type": "markdown",
      "source": [
        "## 튜플의 길이 확인"
      ],
      "metadata": {
        "id": "EgKOV2O4zHF3"
      }
    },
    {
      "cell_type": "code",
      "source": [
        "print(len((1, 2, 3, \"abc\")))\n",
        "print(len((1, 2, (1, 2))))"
      ],
      "metadata": {
        "colab": {
          "base_uri": "https://localhost:8080/"
        },
        "id": "9gSuxYUUd32h",
        "outputId": "0ec59cd8-c124-40d6-f414-cfcd44006dbb"
      },
      "execution_count": null,
      "outputs": [
        {
          "output_type": "stream",
          "name": "stdout",
          "text": [
            "4\n",
            "3\n"
          ]
        }
      ]
    },
    {
      "cell_type": "markdown",
      "source": [
        "## 요소 접근 방법"
      ],
      "metadata": {
        "id": "HdhyCSA0zJpj"
      }
    },
    {
      "cell_type": "markdown",
      "source": [
        "\n",
        "\n",
        "*   인덱싱을 이용한 방법\n",
        "\n"
      ],
      "metadata": {
        "id": "G9ciH1UKzLDn"
      }
    },
    {
      "cell_type": "code",
      "source": [
        "t1 = (1, 2, 3, (1, 2))\n",
        "print(t1[0])\n",
        "print(t1[3])\n",
        "print(t1[-1])\n",
        "print(t1[-2])"
      ],
      "metadata": {
        "colab": {
          "base_uri": "https://localhost:8080/"
        },
        "id": "FYQZRsbueEH1",
        "outputId": "6f0f8831-ad4f-402e-e33f-47e48d619e98"
      },
      "execution_count": null,
      "outputs": [
        {
          "output_type": "stream",
          "name": "stdout",
          "text": [
            "1\n",
            "(1, 2)\n",
            "(1, 2)\n",
            "3\n"
          ]
        }
      ]
    },
    {
      "cell_type": "markdown",
      "source": [
        "\n",
        "\n",
        "*   반복문과 인덱스로 접근\n",
        "\n"
      ],
      "metadata": {
        "id": "FOT4f-tJzNaV"
      }
    },
    {
      "cell_type": "code",
      "source": [
        "idx = 0\n",
        "while idx < len(t1):\n",
        "  print(t1[idx])\n",
        "  idx += 1\n",
        "\n",
        "for i in range(len(t1)):\n",
        "  print(t1[i])"
      ],
      "metadata": {
        "colab": {
          "base_uri": "https://localhost:8080/"
        },
        "id": "Q9YNn6HcemM0",
        "outputId": "3d0e6191-18f7-48fb-d1a8-f99978eae6c4"
      },
      "execution_count": null,
      "outputs": [
        {
          "output_type": "stream",
          "name": "stdout",
          "text": [
            "1\n",
            "2\n",
            "3\n",
            "(1, 2)\n",
            "1\n",
            "2\n",
            "3\n",
            "(1, 2)\n"
          ]
        }
      ]
    },
    {
      "cell_type": "markdown",
      "source": [
        "\n",
        "\n",
        "*   반복자 사용\n",
        "\n"
      ],
      "metadata": {
        "id": "D_G5eYPzzQ1f"
      }
    },
    {
      "cell_type": "code",
      "source": [
        "for t in t1:\n",
        "  print(t)"
      ],
      "metadata": {
        "colab": {
          "base_uri": "https://localhost:8080/"
        },
        "id": "_VMF04hJexce",
        "outputId": "5dee9f36-cf4d-4b5f-c300-7350eb077a21"
      },
      "execution_count": null,
      "outputs": [
        {
          "output_type": "stream",
          "name": "stdout",
          "text": [
            "1\n",
            "2\n",
            "3\n",
            "(1, 2)\n"
          ]
        }
      ]
    },
    {
      "cell_type": "markdown",
      "source": [
        "## 생성"
      ],
      "metadata": {
        "id": "Heo5pvJKzSrn"
      }
    },
    {
      "cell_type": "markdown",
      "source": [
        "\n",
        "\n",
        "*   요소를 지정해서 생성\n",
        "\n"
      ],
      "metadata": {
        "id": "3JZ939e6zT2s"
      }
    },
    {
      "cell_type": "code",
      "source": [
        "tuple1 = ()           # 빈 튜플 생성\n",
        "tuple2 = (1, 2, 3, \"abc\")\n",
        "tuple3 = (1, 2, 3, (1, 2))\n",
        "tuple4 = (1, 2, 3, [1, 2])\n",
        "\n",
        "print(type(tuple1))   # 튜플인지 확인\n",
        "print(tuple2)\n",
        "print(tuple3)\n",
        "print(tuple4)"
      ],
      "metadata": {
        "colab": {
          "base_uri": "https://localhost:8080/"
        },
        "id": "Xb704JwDez70",
        "outputId": "e0ea3f26-59f2-45da-a46a-f01a1d7c51a8"
      },
      "execution_count": null,
      "outputs": [
        {
          "output_type": "stream",
          "name": "stdout",
          "text": [
            "<class 'tuple'>\n",
            "(1, 2, 3, 'abc')\n",
            "(1, 2, 3, (1, 2))\n",
            "(1, 2, 3, [1, 2])\n"
          ]
        }
      ]
    },
    {
      "cell_type": "code",
      "source": [
        "tuple5 = 1, 2, 3, [1, 2] # (1, 2, 3, [1, 2])와 같음\n",
        "print(type(tuple5))      # 튜플인지 확인\n",
        "print(tuple5)\n",
        "tuple6 = 1, 2\n",
        "print(tuple6)"
      ],
      "metadata": {
        "colab": {
          "base_uri": "https://localhost:8080/"
        },
        "id": "SYtf7j05fPrb",
        "outputId": "fc7251fc-f397-4bb3-8513-26c199cd524d"
      },
      "execution_count": null,
      "outputs": [
        {
          "output_type": "stream",
          "name": "stdout",
          "text": [
            "<class 'tuple'>\n",
            "(1, 2, 3, [1, 2])\n",
            "(1, 2)\n"
          ]
        }
      ]
    },
    {
      "cell_type": "code",
      "source": [
        "tuple7 = (2,)     # 정수 한 개로 구성된 튜플 생성\n",
        "print(type(tuple7))\n",
        "print(tuple7)\n",
        "\n",
        "tuple8 = (\"abc\",) # 문자열 한 개로 구성된 튜플 생성\n",
        "print(tuple8)"
      ],
      "metadata": {
        "colab": {
          "base_uri": "https://localhost:8080/"
        },
        "id": "cb_XEe7mflaJ",
        "outputId": "4b1c4b70-9ce6-4cc7-f1ae-62805c128eb0"
      },
      "execution_count": null,
      "outputs": [
        {
          "output_type": "stream",
          "name": "stdout",
          "text": [
            "<class 'tuple'>\n",
            "(2,)\n",
            "('abc',)\n"
          ]
        }
      ]
    },
    {
      "cell_type": "code",
      "source": [
        "tuple9 = (3)\n",
        "tuple10 = (\"abc\")\n",
        "\n",
        "print(type(tuple9))\n",
        "print(tuple9)\n",
        "\n",
        "print(type(tuple10))\n",
        "print(tuple10)"
      ],
      "metadata": {
        "colab": {
          "base_uri": "https://localhost:8080/"
        },
        "id": "C55rFCbjf4SP",
        "outputId": "98c07db1-991c-4077-b004-25ebd3c6c9a0"
      },
      "execution_count": null,
      "outputs": [
        {
          "output_type": "stream",
          "name": "stdout",
          "text": [
            "<class 'int'>\n",
            "3\n",
            "<class 'str'>\n",
            "abc\n"
          ]
        }
      ]
    },
    {
      "cell_type": "markdown",
      "source": [
        "\n",
        "\n",
        "*   슬라이싱, 연결, 반복을 이용해서 새로운 튜플 생성\n",
        "\n"
      ],
      "metadata": {
        "id": "rnP6v3I3zW7d"
      }
    },
    {
      "cell_type": "code",
      "source": [
        "tuple11 = (1, 2, 3, \"abc\")\n",
        "tuple12 = tuple11[0:2]    # tuple11의 처음 두 개 요소를 튜플로 구성\n",
        "print(tuple12)"
      ],
      "metadata": {
        "colab": {
          "base_uri": "https://localhost:8080/"
        },
        "id": "BXt-fr6rgeAn",
        "outputId": "1a43d377-c92e-420d-e857-5ea294426653"
      },
      "execution_count": null,
      "outputs": [
        {
          "output_type": "stream",
          "name": "stdout",
          "text": [
            "(1, 2)\n"
          ]
        }
      ]
    },
    {
      "cell_type": "code",
      "source": [
        "tuple13 = tuple11[2:]    # tuple11의 세 번째부터 끝까지 튜플로 구성\n",
        "print(tuple13)\n",
        "\n",
        "tuple14 = tuple11[:4:2]  # 인덱스 0부터 3까지의 요소, 한 개씩 건너뜀\n",
        "print(tuple14)"
      ],
      "metadata": {
        "colab": {
          "base_uri": "https://localhost:8080/"
        },
        "id": "Ig0_FWLCguPo",
        "outputId": "48d8ce87-98de-497d-e969-c0285e9e61f1"
      },
      "execution_count": null,
      "outputs": [
        {
          "output_type": "stream",
          "name": "stdout",
          "text": [
            "(3, 'abc')\n",
            "(1, 3)\n"
          ]
        }
      ]
    },
    {
      "cell_type": "code",
      "source": [
        "tuple15 = tuple11 + tuple11\n",
        "print(tuple15)"
      ],
      "metadata": {
        "colab": {
          "base_uri": "https://localhost:8080/"
        },
        "id": "onRBCsDfhAFH",
        "outputId": "67499bef-d414-4349-c8cc-ebe0140554ca"
      },
      "execution_count": null,
      "outputs": [
        {
          "output_type": "stream",
          "name": "stdout",
          "text": [
            "(1, 2, 3, 'abc', 1, 2, 3, 'abc')\n"
          ]
        }
      ]
    },
    {
      "cell_type": "code",
      "source": [
        "tuple16 = (1, 2) * 3\n",
        "print(tuple16)"
      ],
      "metadata": {
        "colab": {
          "base_uri": "https://localhost:8080/"
        },
        "id": "qBFxfKKIhGmG",
        "outputId": "257ab56d-7206-4c99-e84d-b94611f8c297"
      },
      "execution_count": null,
      "outputs": [
        {
          "output_type": "stream",
          "name": "stdout",
          "text": [
            "(1, 2, 1, 2, 1, 2)\n"
          ]
        }
      ]
    },
    {
      "cell_type": "markdown",
      "source": [
        "## 튜플과 대입 연산자"
      ],
      "metadata": {
        "id": "ZCwgW20nzbpc"
      }
    },
    {
      "cell_type": "code",
      "source": [
        "t = (1, 2, 3)\n",
        "print(t)"
      ],
      "metadata": {
        "colab": {
          "base_uri": "https://localhost:8080/"
        },
        "id": "d6oWGui8hKww",
        "outputId": "b454e26f-df1f-4db7-d8cd-73f832e24f03"
      },
      "execution_count": null,
      "outputs": [
        {
          "output_type": "stream",
          "name": "stdout",
          "text": [
            "(1, 2, 3)\n"
          ]
        }
      ]
    },
    {
      "cell_type": "code",
      "source": [
        "num4 = 4\n",
        "num5 = 5\n",
        "\n",
        "(num4, num5) = (3, 4)     # num4=3, num5=4를 실행시키는 것과 같은\n",
        "print(f\"num4 = {num4}, num5 = {num5}\")\n",
        "\n",
        "(num4, num6) = (1, \"abc\") # 변수 num6을 생성\n",
        "print(f\"num4 = {num4}, num6 = {num6}\")\n",
        "\n",
        "num4, num5 = 7, 9\n",
        "print(f\"num4 = {num4}, num5 = {num5}\")\n",
        "\n",
        "num7, num8 = 10, 5\n",
        "print(f\"num7 = {num7}, num8 = {num8}\")"
      ],
      "metadata": {
        "colab": {
          "base_uri": "https://localhost:8080/"
        },
        "id": "mxRCTaVHhODz",
        "outputId": "aeb3ae96-0078-48c9-efe2-3b417edbd728"
      },
      "execution_count": null,
      "outputs": [
        {
          "output_type": "stream",
          "name": "stdout",
          "text": [
            "num4 = 3, num5 = 4\n",
            "num4 = 1, num6 = abc\n",
            "num4 = 7, num5 = 9\n",
            "num7 = 10, num8 = 5\n"
          ]
        }
      ]
    },
    {
      "cell_type": "markdown",
      "source": [
        "## 튜플은 변경 불가"
      ],
      "metadata": {
        "id": "TBmnoWwXzeT4"
      }
    },
    {
      "cell_type": "code",
      "source": [
        "tuple7 = (1, 2, 3, [1, 2])\n",
        "tuple7[1] = 3"
      ],
      "metadata": {
        "colab": {
          "base_uri": "https://localhost:8080/",
          "height": 200
        },
        "id": "Sw7hI5OmiRAB",
        "outputId": "3d7277d7-617c-472a-e2b1-dc7662aa67b9"
      },
      "execution_count": null,
      "outputs": [
        {
          "output_type": "error",
          "ename": "TypeError",
          "evalue": "ignored",
          "traceback": [
            "\u001b[0;31m---------------------------------------------------------------------------\u001b[0m",
            "\u001b[0;31mTypeError\u001b[0m                                 Traceback (most recent call last)",
            "\u001b[0;32m<ipython-input-20-82e625e4a5ad>\u001b[0m in \u001b[0;36m<cell line: 2>\u001b[0;34m()\u001b[0m\n\u001b[1;32m      1\u001b[0m \u001b[0mtuple7\u001b[0m \u001b[0;34m=\u001b[0m \u001b[0;34m(\u001b[0m\u001b[0;36m1\u001b[0m\u001b[0;34m,\u001b[0m \u001b[0;36m2\u001b[0m\u001b[0;34m,\u001b[0m \u001b[0;36m3\u001b[0m\u001b[0;34m,\u001b[0m \u001b[0;34m[\u001b[0m\u001b[0;36m1\u001b[0m\u001b[0;34m,\u001b[0m \u001b[0;36m2\u001b[0m\u001b[0;34m]\u001b[0m\u001b[0;34m)\u001b[0m\u001b[0;34m\u001b[0m\u001b[0;34m\u001b[0m\u001b[0m\n\u001b[0;32m----> 2\u001b[0;31m \u001b[0mtuple7\u001b[0m\u001b[0;34m[\u001b[0m\u001b[0;36m1\u001b[0m\u001b[0;34m]\u001b[0m \u001b[0;34m=\u001b[0m \u001b[0;36m3\u001b[0m\u001b[0;34m\u001b[0m\u001b[0;34m\u001b[0m\u001b[0m\n\u001b[0m",
            "\u001b[0;31mTypeError\u001b[0m: 'tuple' object does not support item assignment"
          ]
        }
      ]
    },
    {
      "cell_type": "markdown",
      "source": [
        "## 함수에서 여러 값을 동시에 반환"
      ],
      "metadata": {
        "id": "H52Yf22PziyC"
      }
    },
    {
      "cell_type": "markdown",
      "source": [
        "\n",
        "\n",
        "*   리스트를 이용해서 여러 값을 동시에 반환\n",
        "\n"
      ],
      "metadata": {
        "id": "bI_Ya39qzm8-"
      }
    },
    {
      "cell_type": "code",
      "source": [
        "def divide1(x, y):\n",
        "  result = []\n",
        "  result.append(x // y)   # 몫 추가\n",
        "  result.append(x % y)    # 나머지 추가\n",
        "\n",
        "  return result           # 리스트 반환\n",
        "\n",
        "def divide2(x, y):\n",
        "  return [x // y, x % y]  # 리스트 반환\n",
        "\n",
        "result1 = divide1(5, 3)\n",
        "print(f\"몫: {result1[0]}, 나머지: {result1[1]}\")\n",
        "\n",
        "\n",
        "result2 = divide2(5, 3)\n",
        "print(f\"몫: {result2[0]}, 나머지: {result2[1]}\")"
      ],
      "metadata": {
        "colab": {
          "base_uri": "https://localhost:8080/"
        },
        "id": "2_WbGj3ijLou",
        "outputId": "64fa0349-9ce8-4047-ccda-63c7b3b3b71c"
      },
      "execution_count": null,
      "outputs": [
        {
          "output_type": "stream",
          "name": "stdout",
          "text": [
            "몫: 1, 나머지: 2\n",
            "몫: 1, 나머지: 2\n"
          ]
        }
      ]
    },
    {
      "cell_type": "markdown",
      "source": [
        "\n",
        "\n",
        "*   튜플을 이용해서 여러 값을 동시에 반환\n",
        "\n"
      ],
      "metadata": {
        "id": "H5P_hLetzqvd"
      }
    },
    {
      "cell_type": "code",
      "source": [
        "def divide3(x, y):\n",
        "  return (x // y, x % y) # 튜플 반환\n",
        "\n",
        "result3 = divide3(5, 3)\n",
        "print(f\"몫: {result3[0]}, 나머지: {result3[1]}\")\n",
        "\n",
        "(quotient, remainder) = divide3(5, 3)\n",
        "print(f\"몫: {quotient}, 나머지: {remainder}\")"
      ],
      "metadata": {
        "colab": {
          "base_uri": "https://localhost:8080/"
        },
        "id": "Qkp-3epkjz3U",
        "outputId": "399cb598-4cae-44b9-c036-2f88ba0e4927"
      },
      "execution_count": null,
      "outputs": [
        {
          "output_type": "stream",
          "name": "stdout",
          "text": [
            "몫: 1, 나머지: 2\n",
            "몫: 1, 나머지: 2\n"
          ]
        }
      ]
    },
    {
      "cell_type": "code",
      "source": [
        "def divide4(x, y):\n",
        "  return x // y, x % y   # 튜플 반환\n",
        "\n",
        "quotient, remainder = divide4(5, 3)\n",
        "print(f\"몫: {quotient}, 나머지: {remainder}\")"
      ],
      "metadata": {
        "colab": {
          "base_uri": "https://localhost:8080/"
        },
        "id": "YZbDNZ2fkR8x",
        "outputId": "aa36067e-503f-41b4-ef03-9d587bd57222"
      },
      "execution_count": null,
      "outputs": [
        {
          "output_type": "stream",
          "name": "stdout",
          "text": [
            "몫: 1, 나머지: 2\n"
          ]
        }
      ]
    },
    {
      "cell_type": "markdown",
      "source": [
        "## 리스트와 튜플의 상호 변환"
      ],
      "metadata": {
        "id": "oRHD1M19zuOL"
      }
    },
    {
      "cell_type": "code",
      "execution_count": null,
      "metadata": {
        "id": "JY-p0Adoy9Dn",
        "colab": {
          "base_uri": "https://localhost:8080/"
        },
        "outputId": "8d216145-b60c-4e6d-86d0-2191b9aaea87"
      },
      "outputs": [
        {
          "output_type": "stream",
          "name": "stdout",
          "text": [
            "(1, 2, 'abc')\n",
            "('abc', 1, 2)\n"
          ]
        }
      ],
      "source": [
        "lst1 = [1, 2, \"abc\"]\n",
        "t1 = tuple(lst1)\n",
        "t2 = tuple([\"abc\", 1, 2])\n",
        "print(t1)\n",
        "print(t2)"
      ]
    },
    {
      "cell_type": "code",
      "source": [
        "lst2 = list(t1)\n",
        "lst3 = list((1, 2, \"abc\"))\n",
        "print(lst2)\n",
        "print(lst3)"
      ],
      "metadata": {
        "colab": {
          "base_uri": "https://localhost:8080/"
        },
        "id": "S70RI_WdjAnL",
        "outputId": "7b719b3f-e46f-42cf-ece7-a8dfcfc40731"
      },
      "execution_count": null,
      "outputs": [
        {
          "output_type": "stream",
          "name": "stdout",
          "text": [
            "[1, 2, 'abc']\n",
            "[1, 2, 'abc']\n"
          ]
        }
      ]
    },
    {
      "cell_type": "code",
      "source": [],
      "metadata": {
        "id": "IbtdoV6Ez2hx"
      },
      "execution_count": null,
      "outputs": []
    },
    {
      "cell_type": "markdown",
      "source": [
        "*   실습문제3: 함수의 인자로 정수 한 개를 전달받는다. 인자로 전달된 정수 n개만큼 사용자로부터 정수를 입력받고, 이를 요소로 튜플을 구성한 후, 함수의 결과값으로 반환한다. 이 함수를 이용해서 5개의 정수값으로 구성된 튜플을 생성하고 화면에 출력하는 프로그램을 작성한다.\n",
        "\n",
        "\n",
        "*   요구사항:\n",
        "- 사용자로부터 입력받을 정수의 개수는 함수에 인자로 전달한다.\n",
        "- 사용자는 정수만을 입력한다고 가정한다.\n",
        "- 함수를 검수할 때 입력받아서 튜플로 만들 정수의 개수는 5이다."
      ],
      "metadata": {
        "id": "WqeZUnMAz6xs"
      }
    },
    {
      "cell_type": "code",
      "source": [
        "def createTupleFromInput(n):\n",
        "  t = ()\n",
        "  for i in range(n):\n",
        "    num = int(input(\"정수를 입력하세요: \"))\n",
        "    t += (num,)\n",
        "  return t\n",
        "\n",
        "t1 = createTupleFromInput(5)\n",
        "print(t1)     # 튜플의 내용을 확인하기 위해 출력\n",
        "for n in t1:\n",
        "  print(n)    # 각 요소 출력"
      ],
      "metadata": {
        "id": "f9Ylirbw0XWx",
        "colab": {
          "base_uri": "https://localhost:8080/"
        },
        "outputId": "755c9de1-5bd0-4554-d6db-f3138eef2627"
      },
      "execution_count": null,
      "outputs": [
        {
          "output_type": "stream",
          "name": "stdout",
          "text": [
            "정수를 입력하세요: 5\n",
            "정수를 입력하세요: 8\n",
            "정수를 입력하세요: 3\n",
            "정수를 입력하세요: 5\n",
            "정수를 입력하세요: 9\n",
            "(5, 8, 3, 5, 9)\n",
            "5\n",
            "8\n",
            "3\n",
            "5\n",
            "9\n"
          ]
        }
      ]
    },
    {
      "cell_type": "markdown",
      "source": [
        "실습문제4: 도형 정보를 담고 있는 튜플의 요소들을 이용해서 도형의 면적을 계산해서 출력하는 프로그램을 작성한다.\n",
        "튜플의 요소들은 \"사각형\", 너비, 높이 또는 \"원\", 반지름 형태로 구성된다. 요소값이 \"사각형\"이면 다음 두 개 요소는 사각형의 너비와 높이이고, \"원\"이면 다음 요소는 원의 반지름에 해당되는 정수가 된다.\n",
        "\n",
        "- 다음은 도형 정보를 담고 있는 튜플의 예이다.\n",
        "\n",
        "- (\"사각형\", 30, 20, \"원\", 10)\n",
        "\n",
        "\n",
        "\n",
        "*   요구사항:\n",
        "- 튜플의 요소들은 오류 없이 문제에서 설명한 대로 구성된다.\n",
        "- 튜플에 있는 도형의 개수는 정해져 있지 않다.\n",
        "- 원주율은 math.pi를 사용한다 (import math 필요함).\n",
        "- caclAndPrintArea() 함수를 구현한다. 이 함수는 튜플을 인자로 전달받고, 면적을 계산해서 화면에 출력한다.\n",
        "- 도형 정보를 담고 있는 튜플은 다음 코드를 복사해서 사용한다.\n",
        "- (\"사각형\", 30, 20, \"원\", 10, \"사각형\", 10, 10, \"원\", 20)\n",
        "- 면적 정보를 출력하는 것은 다음 형식에 따른다.\n",
        "- 도형종류, 면적을 계산할 때 필요한 정보, 넓이 # 사각형, 30, 20, 600"
      ],
      "metadata": {
        "id": "Fgkoldvsz2qY"
      }
    },
    {
      "cell_type": "code",
      "source": [
        "import math\n",
        "\n",
        "def calcAndPrintArea(t):\n",
        "  idx = 0\n",
        "  while idx < len(t):\n",
        "    if t[idx] == \"사각형\":\n",
        "      area = t[idx + 1] * t[idx + 2]\n",
        "      print(f\"{t[idx]}, {t[idx + 1]}, {t[idx + 2]}, {area}\")\n",
        "      idx += 3\n",
        "\n",
        "    elif t[idx] == \"원\":\n",
        "      area = t[idx + 1] * t[idx + 1] * math.pi\n",
        "      print(f\"{t[idx]}, {t[idx + 1]}, {area}\")\n",
        "      idx += 2\n",
        "\n",
        "t = (\"사각형\", 30, 20, \"원\", 10, \"사각형\", 20, 40, \"사각형\", 10, 10, \"원\", 20)\n",
        "calcAndPrintArea(t)"
      ],
      "metadata": {
        "colab": {
          "base_uri": "https://localhost:8080/"
        },
        "id": "ESikNcVdZUAq",
        "outputId": "952182d3-8ace-4e6f-b9d4-fc9c05b43804"
      },
      "execution_count": null,
      "outputs": [
        {
          "output_type": "stream",
          "name": "stdout",
          "text": [
            "사각형, 30, 20, 600\n",
            "원, 10, 314.1592653589793\n",
            "사각형, 20, 40, 800\n",
            "사각형, 10, 10, 100\n",
            "원, 20, 1256.6370614359173\n"
          ]
        }
      ]
    },
    {
      "cell_type": "markdown",
      "source": [
        "# Reference: 본 코드는 길벗 출판사의 \"파이썬의 정석\" 책의 코드를 수업형식에 맞게 응용한 코드입니다."
      ],
      "metadata": {
        "id": "t-5YoKuazzc6"
      }
    }
  ]
}