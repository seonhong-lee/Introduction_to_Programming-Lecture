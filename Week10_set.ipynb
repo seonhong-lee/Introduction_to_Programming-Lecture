{
  "nbformat": 4,
  "nbformat_minor": 0,
  "metadata": {
    "colab": {
      "provenance": []
    },
    "kernelspec": {
      "name": "python3",
      "display_name": "Python 3"
    },
    "language_info": {
      "name": "python"
    }
  },
  "cells": [
    {
      "cell_type": "markdown",
      "source": [
        "## 집합 (set)"
      ],
      "metadata": {
        "id": "o0xJ2oV9lpF8"
      }
    },
    {
      "cell_type": "markdown",
      "source": [
        "## 집합의 생성"
      ],
      "metadata": {
        "id": "KPX-y_bQl0FH"
      }
    },
    {
      "cell_type": "markdown",
      "source": [
        "\n",
        "\n",
        "*   요소를 지정해서 생성\n"
      ],
      "metadata": {
        "id": "aaSgybWAl2NF"
      }
    },
    {
      "cell_type": "code",
      "source": [
        "s = {1, 2, 3, 'a', (1, 2, 3)}\n",
        "print(s)"
      ],
      "metadata": {
        "colab": {
          "base_uri": "https://localhost:8080/"
        },
        "id": "gkIZgadpzow6",
        "outputId": "a9a99f48-9650-4101-efb5-d7527cbed028"
      },
      "execution_count": null,
      "outputs": [
        {
          "output_type": "stream",
          "name": "stdout",
          "text": [
            "{1, 2, 3, (1, 2, 3), 'a'}\n"
          ]
        }
      ]
    },
    {
      "cell_type": "markdown",
      "source": [
        "\n",
        "\n",
        "*   set() 명령을 이용해서 생성\n",
        "\n"
      ],
      "metadata": {
        "id": "DNW_Q5w_l5Wx"
      }
    },
    {
      "cell_type": "code",
      "source": [
        "s = set()\n",
        "print(s)"
      ],
      "metadata": {
        "colab": {
          "base_uri": "https://localhost:8080/"
        },
        "id": "JqwC0UXjzs7g",
        "outputId": "f78e601b-caf1-4eaf-afad-317e06e8c50e"
      },
      "execution_count": null,
      "outputs": [
        {
          "output_type": "stream",
          "name": "stdout",
          "text": [
            "set()\n"
          ]
        }
      ]
    },
    {
      "cell_type": "code",
      "source": [
        "s1 = set([1, 2, 3])   # (1)\n",
        "print(s1)\n",
        "\n",
        "s2 = set(\"string\")    # (2)\n",
        "print(s2)\n",
        "\n",
        "s3 = set((1, 2, 3))   # (3)\n",
        "print(s3)"
      ],
      "metadata": {
        "colab": {
          "base_uri": "https://localhost:8080/"
        },
        "id": "jT4RvrpLzwBK",
        "outputId": "aa8292ef-aaea-4895-ff6c-34edb0c8f38d"
      },
      "execution_count": null,
      "outputs": [
        {
          "output_type": "stream",
          "name": "stdout",
          "text": [
            "{1, 2, 3}\n",
            "{'g', 't', 'i', 'r', 'n', 's'}\n",
            "{1, 2, 3}\n"
          ]
        }
      ]
    },
    {
      "cell_type": "markdown",
      "source": [
        "## 집합 사용법"
      ],
      "metadata": {
        "id": "zqCUPt3Tl9qI"
      }
    },
    {
      "cell_type": "markdown",
      "source": [
        "\n",
        "\n",
        "*   집합에 요소 추가\n"
      ],
      "metadata": {
        "id": "2VYrwhCDl8Bs"
      }
    },
    {
      "cell_type": "code",
      "source": [
        "s1 = {1, 2}\n",
        "s1.add(1)     # 동일한 요소 추가\n",
        "print(s1)\n",
        "\n",
        "s1.add(3)     # 새로운 요소 추가\n",
        "print(s1)\n",
        "\n",
        "s1.add(\"abc\") # 새로운 요소 추가\n",
        "print(s1)"
      ],
      "metadata": {
        "colab": {
          "base_uri": "https://localhost:8080/"
        },
        "id": "F0y5qdqsz7x0",
        "outputId": "c726c1d0-daae-4ae9-9242-e05b16b77821"
      },
      "execution_count": null,
      "outputs": [
        {
          "output_type": "stream",
          "name": "stdout",
          "text": [
            "{1, 2}\n",
            "{1, 2, 3}\n",
            "{1, 2, 3, 'abc'}\n"
          ]
        }
      ]
    },
    {
      "cell_type": "code",
      "source": [
        "s1.add([1, 2]) # 리스트 추가 불가"
      ],
      "metadata": {
        "colab": {
          "base_uri": "https://localhost:8080/",
          "height": 182
        },
        "id": "1EhiTyf_4lqM",
        "outputId": "c0b40d52-91e2-423e-d2ef-90565a755819"
      },
      "execution_count": null,
      "outputs": [
        {
          "output_type": "error",
          "ename": "TypeError",
          "evalue": "ignored",
          "traceback": [
            "\u001b[0;31m---------------------------------------------------------------------------\u001b[0m",
            "\u001b[0;31mTypeError\u001b[0m                                 Traceback (most recent call last)",
            "\u001b[0;32m<ipython-input-5-c7cbc64e6fef>\u001b[0m in \u001b[0;36m<cell line: 1>\u001b[0;34m()\u001b[0m\n\u001b[0;32m----> 1\u001b[0;31m \u001b[0ms1\u001b[0m\u001b[0;34m.\u001b[0m\u001b[0madd\u001b[0m\u001b[0;34m(\u001b[0m\u001b[0;34m[\u001b[0m\u001b[0;36m1\u001b[0m\u001b[0;34m,\u001b[0m \u001b[0;36m2\u001b[0m\u001b[0;34m]\u001b[0m\u001b[0;34m)\u001b[0m \u001b[0;31m# 리스트 추가 불가\u001b[0m\u001b[0;34m\u001b[0m\u001b[0;34m\u001b[0m\u001b[0m\n\u001b[0m",
            "\u001b[0;31mTypeError\u001b[0m: unhashable type: 'list'"
          ]
        }
      ]
    },
    {
      "cell_type": "code",
      "source": [
        "s1.add((1, 2)) # 튜플 추가\n",
        "print(s1)"
      ],
      "metadata": {
        "colab": {
          "base_uri": "https://localhost:8080/"
        },
        "id": "uqpRFPXB4qKY",
        "outputId": "25f3b445-62e5-46f0-fdf7-07d7a6b161ae"
      },
      "execution_count": null,
      "outputs": [
        {
          "output_type": "stream",
          "name": "stdout",
          "text": [
            "{1, 2, (1, 2), 20, '문자열'}\n"
          ]
        }
      ]
    },
    {
      "cell_type": "code",
      "source": [
        "s2 = {1, 2}\n",
        "s2.update(\"abc\") # 새로운 요소 추가\n",
        "print(s2)"
      ],
      "metadata": {
        "colab": {
          "base_uri": "https://localhost:8080/"
        },
        "id": "v9kPeSh84wXB",
        "outputId": "f8e36657-3e3c-45c1-be95-834504813524"
      },
      "execution_count": null,
      "outputs": [
        {
          "output_type": "stream",
          "name": "stdout",
          "text": [
            "{1, 2, 'b', 'c', 'a'}\n"
          ]
        }
      ]
    },
    {
      "cell_type": "code",
      "source": [
        "s2.update([\"a\", \"b\", \"d\", \"e\"]) # \"a\",\"b\"는 중복, \"d\",\"e\"는 새로운 요소\n",
        "print(s2)"
      ],
      "metadata": {
        "colab": {
          "base_uri": "https://localhost:8080/"
        },
        "id": "yTsxgakc42Nx",
        "outputId": "8650b660-c554-4aac-934f-a25f699d7735"
      },
      "execution_count": null,
      "outputs": [
        {
          "output_type": "stream",
          "name": "stdout",
          "text": [
            "{1, 2, 'e', 'b', 'c', 'd', 'a'}\n"
          ]
        }
      ]
    },
    {
      "cell_type": "markdown",
      "source": [
        "\n",
        "\n",
        "*   집합에 있는 요소 개수 확인\n"
      ],
      "metadata": {
        "id": "_1bnzehgmBY2"
      }
    },
    {
      "cell_type": "code",
      "source": [
        "len(s2)"
      ],
      "metadata": {
        "colab": {
          "base_uri": "https://localhost:8080/"
        },
        "id": "pK9WCUEY5BKF",
        "outputId": "ea93dd28-7301-4b05-a04e-16121eed1287"
      },
      "execution_count": null,
      "outputs": [
        {
          "output_type": "execute_result",
          "data": {
            "text/plain": [
              "7"
            ]
          },
          "metadata": {},
          "execution_count": 16
        }
      ]
    },
    {
      "cell_type": "markdown",
      "source": [
        "\n",
        "\n",
        "*   교집합 연산\n",
        "\n"
      ],
      "metadata": {
        "id": "J14QR642mESQ"
      }
    },
    {
      "cell_type": "code",
      "source": [
        "s1 = {1, 2, 20, (1, 2), \"문자열\"}\n",
        "s2 = {1, 2, 3}\n",
        "ints = s1 & s2\n",
        "print(ints)"
      ],
      "metadata": {
        "colab": {
          "base_uri": "https://localhost:8080/"
        },
        "id": "9txdZ6w45GJh",
        "outputId": "ac38292f-d3ce-4825-97a6-bcdce62a76a8"
      },
      "execution_count": null,
      "outputs": [
        {
          "output_type": "stream",
          "name": "stdout",
          "text": [
            "{1, 2}\n"
          ]
        }
      ]
    },
    {
      "cell_type": "code",
      "source": [
        "ints2 = s1.intersection(s2)\n",
        "print(ints2)"
      ],
      "metadata": {
        "colab": {
          "base_uri": "https://localhost:8080/"
        },
        "id": "s1-gC5kd5QTZ",
        "outputId": "2fcab5dd-d3ab-4c6e-985e-ec0d98c4109a"
      },
      "execution_count": null,
      "outputs": [
        {
          "output_type": "stream",
          "name": "stdout",
          "text": [
            "{1, 2}\n"
          ]
        }
      ]
    },
    {
      "cell_type": "markdown",
      "source": [
        "\n",
        "\n",
        "*   합집합 연산\n",
        "\n"
      ],
      "metadata": {
        "id": "93DFYxFhmHZa"
      }
    },
    {
      "cell_type": "code",
      "source": [
        "unions = s1 | s2\n",
        "print(unions)"
      ],
      "metadata": {
        "colab": {
          "base_uri": "https://localhost:8080/"
        },
        "id": "LDWn2uGI5VPY",
        "outputId": "2304f4a5-2ba7-488f-dcbe-21c8c48d955b"
      },
      "execution_count": null,
      "outputs": [
        {
          "output_type": "stream",
          "name": "stdout",
          "text": [
            "{1, 2, (1, 2), 20, 3, '문자열'}\n"
          ]
        }
      ]
    },
    {
      "cell_type": "code",
      "source": [
        "unions2 = s1.union(s2)\n",
        "print(unions2)"
      ],
      "metadata": {
        "colab": {
          "base_uri": "https://localhost:8080/"
        },
        "id": "96WOKz5t5g6c",
        "outputId": "b5c2b4b6-06fc-41db-f017-7a9bdacb3cd1"
      },
      "execution_count": null,
      "outputs": [
        {
          "output_type": "stream",
          "name": "stdout",
          "text": [
            "{1, 2, (1, 2), 20, 3, '문자열'}\n"
          ]
        }
      ]
    },
    {
      "cell_type": "markdown",
      "source": [
        "\n",
        "\n",
        "*   차집합 연산\n",
        "\n"
      ],
      "metadata": {
        "id": "wo4bgOD2mJG0"
      }
    },
    {
      "cell_type": "code",
      "source": [
        "diffs = s1 - s2\n",
        "print(diffs)"
      ],
      "metadata": {
        "colab": {
          "base_uri": "https://localhost:8080/"
        },
        "id": "TQ7u52JY5lwf",
        "outputId": "b1e7d91b-75e3-44f7-dde2-45a60085fdc9"
      },
      "execution_count": null,
      "outputs": [
        {
          "output_type": "stream",
          "name": "stdout",
          "text": [
            "{'문자열', (1, 2), 20}\n"
          ]
        }
      ]
    },
    {
      "cell_type": "code",
      "source": [
        "diffs2 = s1.difference(s2)\n",
        "print(diffs2)"
      ],
      "metadata": {
        "colab": {
          "base_uri": "https://localhost:8080/"
        },
        "id": "bE7M-HPF5o6_",
        "outputId": "47583db9-9b13-4b1b-d84a-1397f1295f20"
      },
      "execution_count": null,
      "outputs": [
        {
          "output_type": "stream",
          "name": "stdout",
          "text": [
            "{'문자열', (1, 2), 20}\n"
          ]
        }
      ]
    },
    {
      "cell_type": "markdown",
      "source": [
        "\n",
        "\n",
        "*   대칭차집합 연산\n",
        "\n"
      ],
      "metadata": {
        "id": "qmfBgy9umLJS"
      }
    },
    {
      "cell_type": "code",
      "source": [
        "symmdiffs = s1 ^ s2 # 중복되는 1,2를 제외한 나머지 요소들의 집합\n",
        "print(symmdiffs)"
      ],
      "metadata": {
        "colab": {
          "base_uri": "https://localhost:8080/"
        },
        "id": "gfXFOzTt5uoT",
        "outputId": "32cf1afa-0f49-4ede-87b5-b0fd10037314"
      },
      "execution_count": null,
      "outputs": [
        {
          "output_type": "stream",
          "name": "stdout",
          "text": [
            "{(1, 2), 3, 20, '문자열'}\n"
          ]
        }
      ]
    },
    {
      "cell_type": "code",
      "source": [
        "symmdiffs2 = s1.symmetric_difference(s2)\n",
        "print(symmdiffs2)"
      ],
      "metadata": {
        "colab": {
          "base_uri": "https://localhost:8080/"
        },
        "id": "AyDPQ5OX5212",
        "outputId": "1e23abce-83c2-44eb-cba7-60234de3ba15"
      },
      "execution_count": null,
      "outputs": [
        {
          "output_type": "stream",
          "name": "stdout",
          "text": [
            "{(1, 2), 3, 20, '문자열'}\n"
          ]
        }
      ]
    },
    {
      "cell_type": "markdown",
      "source": [
        "\n",
        "\n",
        "*   요소 제거\n",
        "\n"
      ],
      "metadata": {
        "id": "Ifupv7mCmNl7"
      }
    },
    {
      "cell_type": "code",
      "source": [
        "s1 = {1, 2, 20, (1, 2), \"문자열\"}\n",
        "s1.remove(1)            # 1을 제거\n",
        "print(s1)\n",
        "\n",
        "s1.remove(\"문자열\")     # \"문자열\" 제거\n",
        "print(s1)"
      ],
      "metadata": {
        "colab": {
          "base_uri": "https://localhost:8080/"
        },
        "id": "SECUmeC259Zu",
        "outputId": "a0700be9-8176-4ca0-eea2-cd6f60fafdcd"
      },
      "execution_count": null,
      "outputs": [
        {
          "output_type": "stream",
          "name": "stdout",
          "text": [
            "{2, (1, 2), 20, '문자열'}\n",
            "{2, (1, 2), 20}\n"
          ]
        }
      ]
    },
    {
      "cell_type": "code",
      "source": [
        "s1.remove(\"문자열\")     # 없는 요소를 제거"
      ],
      "metadata": {
        "colab": {
          "base_uri": "https://localhost:8080/",
          "height": 182
        },
        "id": "B7ISE8K26Nfa",
        "outputId": "ba469f42-f461-48a4-dd0e-7352fa3cda00"
      },
      "execution_count": null,
      "outputs": [
        {
          "output_type": "error",
          "ename": "KeyError",
          "evalue": "ignored",
          "traceback": [
            "\u001b[0;31m---------------------------------------------------------------------------\u001b[0m",
            "\u001b[0;31mKeyError\u001b[0m                                  Traceback (most recent call last)",
            "\u001b[0;32m<ipython-input-26-be645039442a>\u001b[0m in \u001b[0;36m<cell line: 1>\u001b[0;34m()\u001b[0m\n\u001b[0;32m----> 1\u001b[0;31m \u001b[0ms1\u001b[0m\u001b[0;34m.\u001b[0m\u001b[0mremove\u001b[0m\u001b[0;34m(\u001b[0m\u001b[0;34m\"문자열\"\u001b[0m\u001b[0;34m)\u001b[0m     \u001b[0;31m# 없는 요소를 제거\u001b[0m\u001b[0;34m\u001b[0m\u001b[0;34m\u001b[0m\u001b[0m\n\u001b[0m",
            "\u001b[0;31mKeyError\u001b[0m: '문자열'"
          ]
        }
      ]
    },
    {
      "cell_type": "markdown",
      "source": [
        "\n",
        "\n",
        "*   요소가 집합에 있는지 확인\n",
        "\n"
      ],
      "metadata": {
        "id": "NHwRWoyLmPt_"
      }
    },
    {
      "cell_type": "code",
      "source": [
        "s1 = {1, 2, 20, (1, 2), \"문자열\"}\n",
        "if 1 in s1:\n",
        "  print(\"1은 셋 s1에 포함되어 있습니다\")\n",
        "else:\n",
        "  print(\"1은 셋 s1의 요소가 아닙니다\")"
      ],
      "metadata": {
        "colab": {
          "base_uri": "https://localhost:8080/"
        },
        "id": "YouYWmZa6Qjl",
        "outputId": "b7ef38a7-a485-4bcb-a9f5-8f523e828a9a"
      },
      "execution_count": null,
      "outputs": [
        {
          "output_type": "stream",
          "name": "stdout",
          "text": [
            "1은 셋 s1에 포함되어 있습니다\n"
          ]
        }
      ]
    },
    {
      "cell_type": "markdown",
      "source": [
        "\n",
        "\n",
        "*   집합을 리스트로 반환\n",
        "\n"
      ],
      "metadata": {
        "id": "yqD6jq24mSHq"
      }
    },
    {
      "cell_type": "code",
      "source": [
        "s1 = {1, 2, 20, (1, 2), \"문자열\"}\n",
        "lst1 = list(s1)\n",
        "print(lst1)"
      ],
      "metadata": {
        "colab": {
          "base_uri": "https://localhost:8080/"
        },
        "id": "kD0Qeiqk6dGi",
        "outputId": "6c88115f-1a6e-4e2c-e6a2-9838f6bde32c"
      },
      "execution_count": null,
      "outputs": [
        {
          "output_type": "stream",
          "name": "stdout",
          "text": [
            "[1, 2, (1, 2), 20, '문자열']\n"
          ]
        }
      ]
    },
    {
      "cell_type": "code",
      "source": [],
      "metadata": {
        "id": "I1jchwVBmfkJ"
      },
      "execution_count": null,
      "outputs": []
    },
    {
      "cell_type": "markdown",
      "source": [
        "*   실습문제7: 1 ~ 20 사이의 숫자 중에서 무작위로 중복되지 않는 숫자 10개를 뽑아서 출력한다.\n",
        "\n",
        "\n",
        "\n",
        "*   요구사항:\n",
        "- 범위 내의 무작위 숫자 생성은 random.randint()를 사용한다.\n",
        "- 생성된 정수 10개는 공백 문자로 분리해서 한 줄에 출력한다."
      ],
      "metadata": {
        "id": "NA8VTpazmZqH"
      }
    },
    {
      "cell_type": "code",
      "source": [
        "import random\n",
        "\n",
        "numSet = set() # 빈 집합 생성\n",
        "# 무작위로 10개의 중복되지 않는 숫자 생성\n",
        "\n",
        "while True:\n",
        "  n = random.randint(1, 20)\n",
        "  numSet.add(n)\n",
        "  if len(numSet) == 10:\n",
        "    break\n",
        "\n",
        "# 리스트로 변환 후 출력\n",
        "numList = list(numSet)\n",
        "for n in numList:\n",
        "  print(n, end=' ')"
      ],
      "metadata": {
        "colab": {
          "base_uri": "https://localhost:8080/"
        },
        "id": "6ANaM57Som31",
        "outputId": "3cc463fe-0081-47d0-9c98-2000f627ae16"
      },
      "execution_count": null,
      "outputs": [
        {
          "output_type": "stream",
          "name": "stdout",
          "text": [
            "1 2 4 6 7 9 12 17 18 20 "
          ]
        }
      ]
    },
    {
      "cell_type": "markdown",
      "source": [
        "# Reference: 본 코드는 길벗 출판사의 \"파이썬의 정석\" 책의 코드를 수업형식에 맞게 응용한 코드입니다."
      ],
      "metadata": {
        "id": "zU0m_u_jmeCb"
      }
    }
  ]
}