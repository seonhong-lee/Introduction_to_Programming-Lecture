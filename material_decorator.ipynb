{
  "nbformat": 4,
  "nbformat_minor": 0,
  "metadata": {
    "colab": {
      "provenance": []
    },
    "kernelspec": {
      "name": "python3",
      "display_name": "Python 3"
    },
    "language_info": {
      "name": "python"
    }
  },
  "cells": [
    {
      "cell_type": "code",
      "source": [
        "def decorator(func):    # 전달받은 함수를 씌우는 데코레이터 함수 정의.\n",
        "  return func           # 함수를 받아서 그대로 반환"
      ],
      "metadata": {
        "id": "A_KF5jIe-TF9"
      },
      "execution_count": null,
      "outputs": []
    },
    {
      "cell_type": "code",
      "source": [
        "def exefunc(x, y):\n",
        "  return x + y          # 매개변수를 받아서 더하는 함수."
      ],
      "metadata": {
        "id": "0Arz_UkC-W7o"
      },
      "execution_count": null,
      "outputs": []
    },
    {
      "cell_type": "code",
      "source": [
        "def decoratorExample(func):\n",
        "    def wrapFunc(*args, **kwargs):\n",
        "        print(\"Start\", func.__name__)\n",
        "        func(*args, **kwargs)\n",
        "        print(\"End\", func.__name__)\n",
        "    return wrapFunc\n",
        "\n",
        "@decoratorExample\n",
        "def test(a, b, c):\n",
        "    print(\"Variables :\", a,b,c)\n",
        "\n",
        "test(\"1\", 2, c=\"345\")"
      ],
      "metadata": {
        "id": "yUb1zrL-ytWW",
        "colab": {
          "base_uri": "https://localhost:8080/"
        },
        "outputId": "8b9ec473-117b-4a13-c9d6-cac99ae6e7c7"
      },
      "execution_count": null,
      "outputs": [
        {
          "output_type": "stream",
          "name": "stdout",
          "text": [
            "Start test\n",
            "Variables : 1 2 345\n",
            "End test\n"
          ]
        }
      ]
    },
    {
      "cell_type": "markdown",
      "source": [
        "## 해당 코드는 \"한권으로 개발자가 원하던 파이썬 심화 A to Z\" 책의 코드와 wikidocs의 코드를 참고하였습니다.\n",
        "## link: https://wikidocs.net/6723"
      ],
      "metadata": {
        "id": "hrC3fvGgrdfk"
      }
    }
  ]
}